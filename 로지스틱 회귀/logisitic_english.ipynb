{
 "cells": [
  {
   "cell_type": "markdown",
   "metadata": {},
   "source": [
    "Last time, we did the principle and implementation of multiple linear regression.\n",
    "\n",
    "I knew multi-linear regression was a powerful enough algorithm,\n",
    "\n",
    "If there is one small problem, the class is not linearly separated\n",
    "\n",
    "It can't converge. This is because at least one sample per epoch is misclassified and the weight update does not end.  \n",
    "\n",
    "To solve this problem, we analyze and implement logistic regression, an algorithm that is a little more powerful for linear binary classification.  \n",
    "\n",
    "Logistic regression has the name regression, but it is practically close to a classification algorithm.  \n",
    "\n",
    "Logistic regression also has some important concepts like linear regression.\n",
    "\n",
    "The first one is the odds ratio, which is the probability that a particular event will occur.  \n",
    "\n",
    "${ \\frac{P}{1-P}}$ The formula can be written as follows, where P is the probability of a positive sample.  \n",
    "For example, the probability that a patient has cancer.  \n",
    "we can take a log on this odds ratio to define the logit function.  \n",
    "${ logit(P) = log \\frac{P}{1-P}}$  \n",
    "log here is a natural log.  \n",
    "\n",
    "As we can see from the equation, the function above takes a value between 0 and 1 and outputs a real range  \n",
    "Write the linear relationship between the sum of weight of the properties, log odds can be written as seem.  \n",
    "$P(Y=1|X)=w0x0+w1x1+w2x2+...+wpxp = w^Tx $  \n",
    "wow, matrix came out again!  \n",
    "$P(Y=1|X)$ This function means the probability that this sample belongs to 1 given the property x.  \n",
    "What we need to do is to predict the probability that a sample belongs to a particular class, so let's flip it over.\n",
    " \n",
    " ${\\phi}(z)= \\frac{1}{1+e^{-z}} $ Logistic sigmoid function completed.\n",
    "The detailed induction of the logistic sigmoid function can be found in Wikipedia.  \n",
    "So let's draw a picture of what a sigmoid looks like."
   ]
  },
  {
   "cell_type": "code",
   "execution_count": 230,
   "metadata": {},
   "outputs": [
    {
     "data": {
      "image/png": "[encoded data removed]",
      "text/plain": [
       "<Figure size 640x480 with 1 Axes>"
      ]
     },
     "metadata": {},
     "output_type": "display_data"
    }
   ],
   "source": [
    "import matplotlib.pyplot as plt\n",
    "import numpy as np\n",
    "import pandas as pd\n",
    "import scipy.optimize as opt\n",
    "def sigmoid(z):\n",
    "    return 1.0 / (1.0 + np.exp(-z))\n",
    "\n",
    "z = np.arange(-7, 7, 0.1)\n",
    "phi_z = sigmoid(z)\n",
    "\n",
    "plt.plot(z, phi_z)\n",
    "plt.axvline(0.0, color='k')\n",
    "plt.ylim(-0.1, 1.1)\n",
    "plt.xlabel('z')\n",
    "plt.ylabel('$\\phi (z)$')\n",
    "\n",
    "# y 축의 눈금과 격자선\n",
    "plt.yticks([0.0, 0.5, 1.0])\n",
    "ax = plt.gca()\n",
    "ax.yaxis.grid(True)\n",
    "\n",
    "plt.tight_layout()\n",
    "# plt.savefig('images/03_02.png', dpi=300)\n",
    "plt.show()"
   ]
  },
  {
   "cell_type": "code",
   "execution_count": 231,
   "metadata": {},
   "outputs": [
    {
     "data": {
      "text/html": [
       "<img src=\"https://git.io/Jtm22\" width=\"500\"/>"
      ],
      "text/plain": [
       "<IPython.core.display.Image object>"
      ]
     },
     "execution_count": 231,
     "metadata": {},
     "output_type": "execute_result"
    }
   ],
   "source": [
    "from IPython.display import Image\n",
    "Image(url='https://git.io/Jtm22', width=500) \n"
   ]
  },
  {
   "cell_type": "markdown",
   "metadata": {},
   "source": [
    "Logistic regression also have cost function and weight learning like linear function\n",
    "\n",
    "![title](https://raw.githubusercontent.com/satishgunjal/Images/master/Cost_Function_Formula.png) \n",
    "\n",
    "though $h(x^{(i)}) changed to {\\phi}(z^{(i)})$ It's essentially the same.\n"
   ]
  },
  {
   "cell_type": "markdown",
   "metadata": {},
   "source": [
    "Hypothesis functions for linear regression are as follows:  h(x) = θ_0 + (θ_1*x_1)....(θ_n*x_n)  \n",
    "We will use this function as an input to the Sigmoid function to obtain a discrete value.\n",
    "  z = θ_0 + (θ_1*x_1)....(θ_n*x_n)\n",
    "The hypothesis function for logistic regression is as follows:  \n",
    "h(x) = g(z) = g(θ_0 + (θ_1*x_1)....(θ_n*x_n))\n",
    "\n",
    "Basically, we are using the line function as an input to the sigmoid function to obtain discrete values from 0 to 1.  \n",
    "The way in which the sigmoid function g(z) behaves is greater when the input is greater than or equal to zero. More than 0.5  \n",
    "Because positive inputs create positive classes and negative inputs create negative classes, you can set the weight sum of the inputs to zero to separate both classes.  \n",
    "Decision boundaries distinguish between positive and negative classes.  \n",
    "The decision boundary is a line that separates an area with y = 0 from an area with y = 1. This is generated by our hypothesis function.  \n",
    "As discussed earlier, you can find the decision boundary by setting the weight sum of the inputs to zero.  \n",
    "You can create a formula to find the decision boundaries for two feature (x and x1) datasets.  \n",
    "\n",
    "  h(x) = θ_0 + (θ_1*x_1) + (θ_2*x_2) = 0\n",
    "  x_2 = -(θ_0 + (θ_1*x_1)) / θ_2"
   ]
  },
  {
   "cell_type": "code",
   "execution_count": 232,
   "metadata": {},
   "outputs": [],
   "source": [
    "import pandas as pd\n",
    "import numpy as np\n",
    "import matplotlib.pyplot as plt\n",
    "import scipy.optimize as opt"
   ]
  },
  {
   "cell_type": "code",
   "execution_count": 233,
   "metadata": {},
   "outputs": [
    {
     "name": "stdout",
     "output_type": "stream",
     "text": [
      "Number of training examples m =  6497\n",
      "Number of features n =  11\n"
     ]
    },
    {
     "data": {
      "text/html": [
       "<div>\n",
       "<style scoped>\n",
       "    .dataframe tbody tr th:only-of-type {\n",
       "        vertical-align: middle;\n",
       "    }\n",
       "\n",
       "    .dataframe tbody tr th {\n",
       "        vertical-align: top;\n",
       "    }\n",
       "\n",
       "    .dataframe thead th {\n",
       "        text-align: right;\n",
       "    }\n",
       "</style>\n",
       "<table border=\"1\" class=\"dataframe\">\n",
       "  <thead>\n",
       "    <tr style=\"text-align: right;\">\n",
       "      <th></th>\n",
       "      <th>fixed acidity</th>\n",
       "      <th>volatile acidity</th>\n",
       "      <th>citric acid</th>\n",
       "      <th>residual sugar</th>\n",
       "      <th>chlorides</th>\n",
       "      <th>free sulfur dioxide</th>\n",
       "      <th>total sulfur dioxide</th>\n",
       "      <th>density</th>\n",
       "      <th>pH</th>\n",
       "      <th>sulphates</th>\n",
       "      <th>alcohol</th>\n",
       "      <th>quality</th>\n",
       "    </tr>\n",
       "  </thead>\n",
       "  <tbody>\n",
       "    <tr>\n",
       "      <th>4563</th>\n",
       "      <td>5.6</td>\n",
       "      <td>0.26</td>\n",
       "      <td>0.27</td>\n",
       "      <td>10.6</td>\n",
       "      <td>0.030</td>\n",
       "      <td>27.0</td>\n",
       "      <td>119.0</td>\n",
       "      <td>0.99470</td>\n",
       "      <td>3.40</td>\n",
       "      <td>0.34</td>\n",
       "      <td>10.7</td>\n",
       "      <td>7</td>\n",
       "    </tr>\n",
       "    <tr>\n",
       "      <th>3778</th>\n",
       "      <td>6.3</td>\n",
       "      <td>0.15</td>\n",
       "      <td>0.30</td>\n",
       "      <td>1.4</td>\n",
       "      <td>0.022</td>\n",
       "      <td>38.0</td>\n",
       "      <td>100.0</td>\n",
       "      <td>0.99099</td>\n",
       "      <td>3.42</td>\n",
       "      <td>0.57</td>\n",
       "      <td>11.4</td>\n",
       "      <td>7</td>\n",
       "    </tr>\n",
       "    <tr>\n",
       "      <th>328</th>\n",
       "      <td>6.5</td>\n",
       "      <td>0.28</td>\n",
       "      <td>0.35</td>\n",
       "      <td>15.4</td>\n",
       "      <td>0.042</td>\n",
       "      <td>55.0</td>\n",
       "      <td>195.0</td>\n",
       "      <td>0.99780</td>\n",
       "      <td>3.23</td>\n",
       "      <td>0.50</td>\n",
       "      <td>9.6</td>\n",
       "      <td>6</td>\n",
       "    </tr>\n",
       "    <tr>\n",
       "      <th>3167</th>\n",
       "      <td>5.6</td>\n",
       "      <td>0.28</td>\n",
       "      <td>0.40</td>\n",
       "      <td>6.1</td>\n",
       "      <td>0.034</td>\n",
       "      <td>36.0</td>\n",
       "      <td>118.0</td>\n",
       "      <td>0.99144</td>\n",
       "      <td>3.21</td>\n",
       "      <td>0.43</td>\n",
       "      <td>12.1</td>\n",
       "      <td>7</td>\n",
       "    </tr>\n",
       "    <tr>\n",
       "      <th>4289</th>\n",
       "      <td>6.6</td>\n",
       "      <td>0.26</td>\n",
       "      <td>0.27</td>\n",
       "      <td>11.8</td>\n",
       "      <td>0.048</td>\n",
       "      <td>28.0</td>\n",
       "      <td>112.0</td>\n",
       "      <td>0.99606</td>\n",
       "      <td>2.87</td>\n",
       "      <td>0.49</td>\n",
       "      <td>9.7</td>\n",
       "      <td>6</td>\n",
       "    </tr>\n",
       "  </tbody>\n",
       "</table>\n",
       "</div>"
      ],
      "text/plain": [
       "      fixed acidity  volatile acidity  citric acid  residual sugar  chlorides  \\\n",
       "4563            5.6              0.26         0.27            10.6      0.030   \n",
       "3778            6.3              0.15         0.30             1.4      0.022   \n",
       "328             6.5              0.28         0.35            15.4      0.042   \n",
       "3167            5.6              0.28         0.40             6.1      0.034   \n",
       "4289            6.6              0.26         0.27            11.8      0.048   \n",
       "\n",
       "      free sulfur dioxide  total sulfur dioxide  density    pH  sulphates  \\\n",
       "4563                 27.0                 119.0  0.99470  3.40       0.34   \n",
       "3778                 38.0                 100.0  0.99099  3.42       0.57   \n",
       "328                  55.0                 195.0  0.99780  3.23       0.50   \n",
       "3167                 36.0                 118.0  0.99144  3.21       0.43   \n",
       "4289                 28.0                 112.0  0.99606  2.87       0.49   \n",
       "\n",
       "      alcohol  quality  \n",
       "4563     10.7        7  \n",
       "3778     11.4        7  \n",
       "328       9.6        6  \n",
       "3167     12.1        7  \n",
       "4289      9.7        6  "
      ]
     },
     "execution_count": 233,
     "metadata": {},
     "output_type": "execute_result"
    }
   ],
   "source": [
    "red_wine = pd.read_csv('../winequality-red.csv', sep=';')\n",
    "white_wine = pd.read_csv('../winequality-white.csv',sep=';')\n",
    "#칼럼 추가\n",
    "df = pd.concat([red_wine, white_wine])\n",
    "m, n = df.shape\n",
    "print('Number of training examples m = ', m)\n",
    "print('Number of features n = ', n - 1) # Not counting the 'Label: Admission status'\n",
    "df.sample(5) # Show random 5 training examples"
   ]
  },
  {
   "cell_type": "code",
   "execution_count": 234,
   "metadata": {},
   "outputs": [
    {
     "name": "stdout",
     "output_type": "stream",
     "text": [
      "   fixed acidity  volatile acidity  citric acid  residual sugar  chlorides  \\\n",
      "0            7.4              0.70         0.00             1.9      0.076   \n",
      "1            7.8              0.88         0.00             2.6      0.098   \n",
      "2            7.8              0.76         0.04             2.3      0.092   \n",
      "3           11.2              0.28         0.56             1.9      0.075   \n",
      "4            7.4              0.70         0.00             1.9      0.076   \n",
      "\n",
      "   free sulfur dioxide  total sulfur dioxide  density    pH  sulphates  \\\n",
      "0                 11.0                  34.0   0.9978  3.51       0.56   \n",
      "1                 25.0                  67.0   0.9968  3.20       0.68   \n",
      "2                 15.0                  54.0   0.9970  3.26       0.65   \n",
      "3                 17.0                  60.0   0.9980  3.16       0.58   \n",
      "4                 11.0                  34.0   0.9978  3.51       0.56   \n",
      "\n",
      "   alcohol  \n",
      "0      9.4  \n",
      "1      9.8  \n",
      "2      9.8  \n",
      "3      9.8  \n",
      "4      9.4  \n",
      "[0 0 0 0 0 0 0 1 1 0 0 0 0 0 0]\n"
     ]
    }
   ],
   "source": [
    "x_data = df.iloc[:,0:-1]\n",
    "y_data = df.iloc[:,-1]\n",
    "y_data = np.array([1 if i>=7 else 0 for i in y_data])\n",
    "print(x_data[:5])\n",
    "print(y_data[:15])"
   ]
  },
  {
   "cell_type": "code",
   "execution_count": 235,
   "metadata": {},
   "outputs": [
    {
     "name": "stdout",
     "output_type": "stream",
     "text": [
      "mu=  fixed acidity             7.215307\n",
      "volatile acidity          0.339666\n",
      "citric acid               0.318633\n",
      "residual sugar            5.443235\n",
      "chlorides                 0.056034\n",
      "free sulfur dioxide      30.525319\n",
      "total sulfur dioxide    115.744574\n",
      "density                   0.994697\n",
      "pH                        3.218501\n",
      "sulphates                 0.531268\n",
      "alcohol                  10.491801\n",
      "dtype: float64\n",
      "sigma=  fixed acidity            1.296434\n",
      "volatile acidity         0.164636\n",
      "citric acid              0.145318\n",
      "residual sugar           4.757804\n",
      "chlorides                0.035034\n",
      "free sulfur dioxide     17.749400\n",
      "total sulfur dioxide    56.521855\n",
      "density                  0.002999\n",
      "pH                       0.160787\n",
      "sulphates                0.148806\n",
      "alcohol                  1.192712\n",
      "dtype: float64\n",
      "X_norm=     fixed acidity  volatile acidity  citric acid  residual sugar  chlorides  \\\n",
      "0       0.142462          2.188664    -2.192664       -0.744721   0.569914   \n",
      "1       0.451001          3.281982    -2.192664       -0.597594   1.197883   \n",
      "2       0.451001          2.553104    -1.917405       -0.660648   1.026618   \n",
      "3       3.073580         -0.362411     1.660957       -0.744721   0.541370   \n",
      "4       0.142462          2.188664    -2.192664       -0.744721   0.569914   \n",
      "\n",
      "   free sulfur dioxide  total sulfur dioxide   density        pH  sulphates  \\\n",
      "0            -1.100055             -1.446247  1.034913  1.812950   0.193082   \n",
      "1            -0.311296             -0.862402  0.701432 -0.115064   0.999502   \n",
      "2            -0.874695             -1.092402  0.768128  0.258100   0.797897   \n",
      "3            -0.762016             -0.986248  1.101609 -0.363840   0.327485   \n",
      "4            -1.100055             -1.446247  1.034913  1.812950   0.193082   \n",
      "\n",
      "    alcohol  \n",
      "0 -0.915394  \n",
      "1 -0.580023  \n",
      "2 -0.580023  \n",
      "3 -0.580023  \n",
      "4 -0.915394  \n"
     ]
    }
   ],
   "source": [
    "def feature_normalize(X):\n",
    "\n",
    "  #Note here we need mean of indivdual column here, hence axis = 0\n",
    "  mu = np.mean(X, axis = 0)  \n",
    "  # Notice the parameter ddof (Delta Degrees of Freedom)  value is 1\n",
    "  sigma = np.std(X, axis= 0, ddof = 1)  # Standard deviation (can also use range) 표준편차 ddof를 지정해주는 이유는 numpy의 std default가 0이기 때문\n",
    "  X_norm = (X - mu)/sigma\n",
    "  return X_norm, mu, sigma\n",
    "\n",
    "x_data, mu, sigma = feature_normalize(x_data)\n",
    "\n",
    "print('mu= ', mu)\n",
    "print('sigma= ', sigma)\n",
    "print('X_norm= ', x_data[:5])"
   ]
  },
  {
   "cell_type": "code",
   "execution_count": 236,
   "metadata": {},
   "outputs": [
    {
     "data": {
      "text/plain": [
       "fixed acidity          -4.549573e-16\n",
       "volatile acidity        1.049902e-16\n",
       "citric acid             2.624754e-17\n",
       "residual sugar          5.249508e-17\n",
       "chlorides               1.749836e-17\n",
       "free sulfur dioxide    -1.049902e-16\n",
       "total sulfur dioxide    0.000000e+00\n",
       "density                -3.552167e-15\n",
       "pH                      2.729744e-15\n",
       "sulphates              -4.899540e-16\n",
       "alcohol                 9.799081e-16\n",
       "dtype: float64"
      ]
     },
     "execution_count": 236,
     "metadata": {},
     "output_type": "execute_result"
    }
   ],
   "source": [
    "mu_testing = np.mean(x_data, axis = 0) # mean\n",
    "mu_testing"
   ]
  },
  {
   "cell_type": "code",
   "execution_count": 237,
   "metadata": {},
   "outputs": [
    {
     "data": {
      "text/plain": [
       "fixed acidity           1.0\n",
       "volatile acidity        1.0\n",
       "citric acid             1.0\n",
       "residual sugar          1.0\n",
       "chlorides               1.0\n",
       "free sulfur dioxide     1.0\n",
       "total sulfur dioxide    1.0\n",
       "density                 1.0\n",
       "pH                      1.0\n",
       "sulphates               1.0\n",
       "alcohol                 1.0\n",
       "dtype: float64"
      ]
     },
     "execution_count": 237,
     "metadata": {},
     "output_type": "execute_result"
    }
   ],
   "source": [
    "sigma_testing = np.std(x_data, axis = 0, ddof = 1) # mean\n",
    "sigma_testing"
   ]
  },
  {
   "cell_type": "code",
   "execution_count": 238,
   "metadata": {},
   "outputs": [
    {
     "name": "stdout",
     "output_type": "stream",
     "text": [
      "Dimension of feature matric X =  (6497, 12) \n",
      "\n",
      "x = [ 1.          0.45100101  3.28198234 -2.19266376 -0.59759408  1.19788251\n",
      " -0.31129613 -0.86240225  0.70143232 -0.11506417  0.99950169 -0.58002349] , y = 0\n",
      "[[ 1.          0.1424623   2.18866446 -2.19266376 -0.74472079  0.56991395\n",
      "  -1.10005519 -1.44624721  1.03491316  1.81294997  0.19308191 -0.91539371]\n",
      " [ 1.          0.45100101  3.28198234 -2.19266376 -0.59759408  1.19788251\n",
      "  -0.31129613 -0.86240225  0.70143232 -0.11506417  0.99950169 -0.58002349]]\n",
      "[0 0]\n"
     ]
    }
   ],
   "source": [
    "#Add column of ones (intercept term)\n",
    "x_data = np.hstack((np.ones((m,1)),x_data))\n",
    "# Now X is numpy array of 2 dimension\n",
    "print(\"Dimension of feature matric X = \", x_data.shape, '\\n')\n",
    "\n",
    "# First 5 records training examples with labels\n",
    "\n",
    "print('x =', x_data[1, ], ', y =', y_data[1])\n",
    "print(x_data[:2])\n",
    "print(y_data[:2])"
   ]
  },
  {
   "cell_type": "markdown",
   "metadata": {},
   "source": [
    "Now we finished preparation for the function data.\n",
    "But something is missing from the function above, and I know what sigmoid is, but there's no explanation for the most important weight.\n",
    "In order to parameterize a logistic regression model, we maximize the likelihood L (or minimize the logistic cost function)  \n",
    "We write the likelihood as  \n",
    "$L(\\mathbf{w}) = P(\\mathbf{y} \\mid \\mathbf{x};\\mathbf{w}) = \\prod_{i=1}^{n} P\\big(y^{(i)} \\mid x^{(i)}; \\mathbf{w}\\big) = \\prod^{n}_{i=1}\\bigg(\\phi\\big(z^{(i)}\\big)\\bigg)^{y^{(i)}} \\bigg(1-\\phi\\big(z^{(i)}\\big)\\bigg)^{1-y^{(i)}}$  \n",
    "under the assumption that the training samples are independent of each other.\n",
    "\n",
    "In practice, it is easier to maximize the (natural) log of this equation, which is called the log-likelihood function:  \n",
    "$l(\\mathbf{w}) = \\log L(\\mathbf{w}) = \\sum^{n}_{i=1} y^{(i)} \\log \\bigg(\\phi\\big(z^{(i)}\\big)\\bigg) + \\big( 1 - y^{(i)}\\big) \\log \\big(1-\\phi\\big(z^{(i)}\\big)\\big)$  \n",
    "One advantage of taking the log is to avoid numeric underflow (and challenges with floating point math) for very small likelihoods.  \n",
    " Another advantage is that we can obtain the derivative more easily, using the addition trick to rewrite the product of factors as a summation term,  \n",
    " which we can then maximize using optimization algorithms such as gradient ascent.\n"
   ]
  },
  {
   "cell_type": "code",
   "execution_count": 239,
   "metadata": {},
   "outputs": [],
   "source": [
    "#시그모이드 함수 생성\n",
    "\n",
    "def sigmoid(z):\n",
    "\n",
    "    g = 1 / (1 + np.exp(-z))\n",
    "    return g"
   ]
  },
  {
   "cell_type": "code",
   "execution_count": 240,
   "metadata": {},
   "outputs": [
    {
     "data": {
      "text/plain": [
       "array([0., 0., 0., 0., 0., 0., 0., 0., 0., 0., 0., 0.])"
      ]
     },
     "execution_count": 240,
     "metadata": {},
     "output_type": "execute_result"
    }
   ],
   "source": [
    "theta = np.zeros(n)\n",
    "theta"
   ]
  },
  {
   "cell_type": "markdown",
   "metadata": {},
   "source": [
    "An alternative to maximizing the log-likelihood, we can define a cost function J to be minimized; we rewrite the log-likelihood as:  \n",
    "$J(\\mathbf{w}) = \\sum_{i=1}^{m} - y^{(i)} log \\bigg( \\phi\\big(z^{(i)}\\big) \\bigg) - \\big(1 - y^{(i)}\\big) log\\bigg(1-\\phi\\big(z^{(i)}\\big)\\bigg)$  \n",
    "\n",
    "$$J\\big(\\phi(z), y; \\mathbf{w}\\big) =\\begin{cases}\n",
    "    -log\\big(\\phi(z) \\big) & \\text{if $y = 1$}\\\\\n",
    "    -log\\big(1- \\phi(z) \\big) & \\text{if $y = 0$}\n",
    "  \\end{cases}$$\n",
    "\n",
    "![title](http://rasbt.github.io/mlxtend/user_guide/classifier/LogisticRegression_files/logistic_cost.png)"
   ]
  },
  {
   "cell_type": "code",
   "execution_count": 241,
   "metadata": {},
   "outputs": [],
   "source": [
    "#비용 및 기울기 함수 생성\n",
    "def cost_function(X, y,theta): #가중치 학습\n",
    "   \"\"\"\n",
    "   this is cost function of sigmoid function \n",
    "   Input paramenters\n",
    "   -------------------\n",
    "   X: 2D array row means traning example, column means feature ndarray. Dimension(m x n)\n",
    "         m: number of traning example \n",
    "         n: number of features\n",
    "   y:  1D array of labels/target value \n",
    "\n",
    "   theta : 1D array of weights\n",
    "   \"\"\"\n",
    "   #print(X.shape)\n",
    "   m, n = X.shape\n",
    "   x_dot_theta = X.dot(theta)\n",
    "\n",
    "   J = 1.0 / m * (-y.T.dot(np.log(sigmoid(x_dot_theta))) - (1 - y).T.dot(np.log(1 - sigmoid(x_dot_theta))))\n",
    "\n",
    "   return J"
   ]
  },
  {
   "cell_type": "code",
   "execution_count": 242,
   "metadata": {},
   "outputs": [],
   "source": [
    "def gradient( X, y,theta):\n",
    "\n",
    "    m, n = X.shape\n",
    "    x_dot_theta = X.dot(theta)\n",
    "\n",
    "    grad = 1.0 / m * (sigmoid(x_dot_theta) - y).T.dot(X)\n",
    "\n",
    "    return grad"
   ]
  },
  {
   "cell_type": "markdown",
   "metadata": {},
   "source": [
    "剩下的内引用 PPT  \n",
    "\n",
    "！[title](../photo/logistic_gradient.png)"
   ]
  },
  {
   "cell_type": "code",
   "execution_count": 243,
   "metadata": {},
   "outputs": [],
   "source": [
    "def gradient_descent(X, y,theta, alpha, iterations):\n",
    "  \"\"\"   \n",
    "  alpha: learning rate \n",
    "  iteration: epoch      \n",
    "        \"\"\"\n",
    "  cost_history = np.zeros(iterations)\n",
    "\n",
    "  for i in range(iterations):\n",
    "    gradients = gradient(X,y,theta)    \n",
    "    updated_theta = alpha*gradients #X전치행렬과 에러의 행렬곱\n",
    "    #print('sum_delta= ', sum_delta[:5])\n",
    "    theta = theta - updated_theta\n",
    "\n",
    "    cost_history[i] = cost_function(X, y, theta)  \n",
    "\n",
    "  return theta, cost_history\n"
   ]
  },
  {
   "cell_type": "code",
   "execution_count": 244,
   "metadata": {},
   "outputs": [
    {
     "name": "stdout",
     "output_type": "stream",
     "text": [
      "Cost at initial theta (zeros): 0.6931471805599461\n",
      "Gradient at initial theta (zeros): [0.69176791 0.69039791 0.68903708 ... 0.4010548  0.40104729 0.40103978]\n"
     ]
    }
   ],
   "source": [
    "cost = cost_function( x_data, y_data,theta)\n",
    "print ('Cost at initial theta (zeros):', cost)\n",
    "\n",
    "theta,cost_hist = gradient_descent(x_data, y_data,theta,  0.01, 2000)\n",
    "print ('Gradient at initial theta (zeros):', cost_hist)"
   ]
  },
  {
   "cell_type": "code",
   "execution_count": 245,
   "metadata": {},
   "outputs": [
    {
     "name": "stdout",
     "output_type": "stream",
     "text": [
      "Cost at theta found by fminunc: 0.4010397787981264\n",
      "theta: [-1.56897687  0.10667956 -0.31931135  0.0730255   0.21541776 -0.21280759\n",
      "  0.12796535 -0.14054887 -0.25612084  0.10339462  0.22676667  0.71618082]\n"
     ]
    }
   ],
   "source": [
    "#최적화 기술을 사용하여 세타 값 찾기\n",
    "\n",
    "#theta, nfeval, rc = opt.fmin_tnc(func=cost_function, fprime= gradient, x0=theta, args=(x_data, y_data))\n",
    "\n",
    "cost = cost_function( x_data, y_data,theta)\n",
    "print ('Cost at theta found by fminunc:', cost)\n",
    "print ('theta:', theta)"
   ]
  },
  {
   "cell_type": "code",
   "execution_count": 247,
   "metadata": {},
   "outputs": [
    {
     "name": "stdout",
     "output_type": "stream",
     "text": [
      "quality predict for the first data [9.56999491e-03 2.26245436e-02 3.32919607e-02 3.79365630e-04\n",
      " 9.56999491e-03 1.32670653e-02 4.37013579e-02 4.21068741e-03\n",
      " 4.46581273e-03 9.57424729e-01 3.88196661e-01 9.57424729e-01]\n"
     ]
    }
   ],
   "source": [
    "#input_data = np.array([1, 45, 85]) # Note the intercept term '1' in array\n",
    "input_data = red_wine.iloc[:12,]\n",
    "prob = sigmoid(np.dot(input_data, theta))\n",
    "print ('quality predict for the first data', prob)"
   ]
  },
  {
   "cell_type": "markdown",
   "metadata": {},
   "source": [
    "로지스틱 모델에 대한 예측을 위한 함수를 만들어 보겠습니다. 이 함수는 0과 1 사이의 확률을 예측하는 대신 0.5의 임계값을 사용하여 이산 값을 예측합니다. 확률 >= 0.5일 때 1 그렇지 않으면 0"
   ]
  },
  {
   "cell_type": "code",
   "execution_count": 248,
   "metadata": {},
   "outputs": [],
   "source": [
    "def predict(theta, X):\n",
    "\n",
    "    p = sigmoid(X.dot(theta)) >= 0.5\n",
    "    return p.astype(int)"
   ]
  },
  {
   "cell_type": "code",
   "execution_count": 249,
   "metadata": {},
   "outputs": [
    {
     "data": {
      "text/html": [
       "<div>\n",
       "<style scoped>\n",
       "    .dataframe tbody tr th:only-of-type {\n",
       "        vertical-align: middle;\n",
       "    }\n",
       "\n",
       "    .dataframe tbody tr th {\n",
       "        vertical-align: top;\n",
       "    }\n",
       "\n",
       "    .dataframe thead th {\n",
       "        text-align: right;\n",
       "    }\n",
       "</style>\n",
       "<table border=\"1\" class=\"dataframe\">\n",
       "  <thead>\n",
       "    <tr style=\"text-align: right;\">\n",
       "      <th></th>\n",
       "      <th>0</th>\n",
       "      <th>1</th>\n",
       "      <th>2</th>\n",
       "      <th>3</th>\n",
       "      <th>4</th>\n",
       "      <th>5</th>\n",
       "      <th>6</th>\n",
       "      <th>7</th>\n",
       "      <th>8</th>\n",
       "      <th>9</th>\n",
       "      <th>...</th>\n",
       "      <th>6487</th>\n",
       "      <th>6488</th>\n",
       "      <th>6489</th>\n",
       "      <th>6490</th>\n",
       "      <th>6491</th>\n",
       "      <th>6492</th>\n",
       "      <th>6493</th>\n",
       "      <th>6494</th>\n",
       "      <th>6495</th>\n",
       "      <th>6496</th>\n",
       "    </tr>\n",
       "  </thead>\n",
       "  <tbody>\n",
       "    <tr>\n",
       "      <th>quality</th>\n",
       "      <td>0</td>\n",
       "      <td>0</td>\n",
       "      <td>0</td>\n",
       "      <td>0</td>\n",
       "      <td>0</td>\n",
       "      <td>0</td>\n",
       "      <td>0</td>\n",
       "      <td>1</td>\n",
       "      <td>1</td>\n",
       "      <td>0</td>\n",
       "      <td>...</td>\n",
       "      <td>0</td>\n",
       "      <td>0</td>\n",
       "      <td>0</td>\n",
       "      <td>0</td>\n",
       "      <td>0</td>\n",
       "      <td>0</td>\n",
       "      <td>0</td>\n",
       "      <td>0</td>\n",
       "      <td>1</td>\n",
       "      <td>0</td>\n",
       "    </tr>\n",
       "    <tr>\n",
       "      <th>Predicted quality</th>\n",
       "      <td>0</td>\n",
       "      <td>0</td>\n",
       "      <td>0</td>\n",
       "      <td>0</td>\n",
       "      <td>0</td>\n",
       "      <td>0</td>\n",
       "      <td>0</td>\n",
       "      <td>0</td>\n",
       "      <td>0</td>\n",
       "      <td>0</td>\n",
       "      <td>...</td>\n",
       "      <td>0</td>\n",
       "      <td>0</td>\n",
       "      <td>0</td>\n",
       "      <td>0</td>\n",
       "      <td>0</td>\n",
       "      <td>0</td>\n",
       "      <td>0</td>\n",
       "      <td>0</td>\n",
       "      <td>1</td>\n",
       "      <td>0</td>\n",
       "    </tr>\n",
       "  </tbody>\n",
       "</table>\n",
       "<p>2 rows × 6497 columns</p>\n",
       "</div>"
      ],
      "text/plain": [
       "                   0     1     2     3     4     5     6     7     8     9     \\\n",
       "quality               0     0     0     0     0     0     0     1     1     0   \n",
       "Predicted quality     0     0     0     0     0     0     0     0     0     0   \n",
       "\n",
       "                   ...  6487  6488  6489  6490  6491  6492  6493  6494  6495  \\\n",
       "quality            ...     0     0     0     0     0     0     0     0     1   \n",
       "Predicted quality  ...     0     0     0     0     0     0     0     0     1   \n",
       "\n",
       "                   6496  \n",
       "quality               0  \n",
       "Predicted quality     0  \n",
       "\n",
       "[2 rows x 6497 columns]"
      ]
     },
     "execution_count": 249,
     "metadata": {},
     "output_type": "execute_result"
    }
   ],
   "source": [
    "#모델의 정확도\n",
    "predictedValue = pd.DataFrame(predict(theta, x_data), columns=['Predicted quality']) # Create new dataframe of column'Predicted Price'\n",
    "actualAdmissionStatus = pd.DataFrame(y_data, columns=['quality'])\n",
    "df_actual_vs_predicted = pd.concat([actualAdmissionStatus,predictedValue],axis =1)\n",
    "df_actual_vs_predicted.T"
   ]
  },
  {
   "cell_type": "code",
   "execution_count": 250,
   "metadata": {},
   "outputs": [
    {
     "name": "stdout",
     "output_type": "stream",
     "text": [
      "Accuracy: 82.05325534862244\n"
     ]
    }
   ],
   "source": [
    "p = predict(theta, x_data)\n",
    "print ('Accuracy:', np.mean(p == y_data) * 100 )"
   ]
  },
  {
   "cell_type": "markdown",
   "metadata": {},
   "source": [
    "Additional test:  \n",
    "Accuracy experiments based on threshold values"
   ]
  },
  {
   "cell_type": "code",
   "execution_count": 261,
   "metadata": {},
   "outputs": [],
   "source": [
    "from sklearn.metrics import *\n",
    "from sklearn.linear_model import LogisticRegression\n",
    "import seaborn as sns\n"
   ]
  },
  {
   "cell_type": "code",
   "execution_count": 254,
   "metadata": {},
   "outputs": [],
   "source": [
    "lr_clf = LogisticRegression()\n",
    "lr_clf.fit(x_data, y_data)\n",
    "sk_predict_value = lr_clf.predict(x_data)\n",
    "sk_predict_proba = lr_clf.predict_proba(x_data)[:, 1]"
   ]
  },
  {
   "cell_type": "code",
   "execution_count": 257,
   "metadata": {},
   "outputs": [],
   "source": [
    "# 여러가지 평가지표 값을 반환해주는 함수 작성\n",
    "def get_score(y_true, y_pred, y_pred_proba):\n",
    "    accuracy = accuracy_score(y_true, y_pred)\n",
    "    recall = recall_score(y_true, y_pred)\n",
    "    precision = precision_score(y_true, y_pred)\n",
    "    auc = roc_auc_score(y_true, y_pred_proba)\n",
    "    \n",
    "    print('accuracy\\t> {}'.format( round(accuracy, 4)))\n",
    "    print('recall\\t\\t> {}'.format( round(recall, 4)))\n",
    "    print('precision\\t> {}'.format( round(precision, 4)))\n",
    "    print('auc\\t\\t> {}'.format( round(auc, 4)))\n",
    "    \n",
    "    return (accuracy, recall, precision, auc)\n",
    "    "
   ]
  },
  {
   "cell_type": "code",
   "execution_count": 255,
   "metadata": {},
   "outputs": [],
   "source": [
    "# threshold를 변화해가며 어떤 threshold에서 평가지표가 좋은 지 확인해보고자 한다.\n",
    "def change_threshold(X, theta, threshold):\n",
    "    values = X.dot(theta)\n",
    "    predict_proba = [sigmoid(value) for value in values]\n",
    "    predict_value = [1 if proba>=threshold else 0 for proba in predict_proba]\n",
    "    return predict_value, predict_proba"
   ]
  },
  {
   "cell_type": "code",
   "execution_count": 260,
   "metadata": {},
   "outputs": [
    {
     "name": "stdout",
     "output_type": "stream",
     "text": [
      "threshold = 0.2\n",
      "accuracy\t> 0.7005\n",
      "recall\t\t> 0.8175\n",
      "precision\t> 0.3787\n",
      "auc\t\t> 0.8041\n",
      "==================================================\n",
      "threshold = 0.30000000000000004\n",
      "accuracy\t> 0.7827\n",
      "recall\t\t> 0.6108\n",
      "precision\t> 0.4602\n",
      "auc\t\t> 0.8041\n",
      "==================================================\n",
      "threshold = 0.4000000000000001\n",
      "accuracy\t> 0.8104\n",
      "recall\t\t> 0.3962\n",
      "precision\t> 0.5233\n",
      "auc\t\t> 0.8041\n",
      "==================================================\n",
      "threshold = 0.5000000000000001\n",
      "accuracy\t> 0.8205\n",
      "recall\t\t> 0.2294\n",
      "precision\t> 0.6168\n",
      "auc\t\t> 0.8041\n",
      "==================================================\n",
      "threshold = 0.6000000000000001\n",
      "accuracy\t> 0.8138\n",
      "recall\t\t> 0.083\n",
      "precision\t> 0.731\n",
      "auc\t\t> 0.8041\n",
      "==================================================\n",
      "threshold = 0.7000000000000002\n",
      "accuracy\t> 0.8047\n",
      "recall\t\t> 0.0141\n",
      "precision\t> 0.6429\n",
      "auc\t\t> 0.8041\n",
      "==================================================\n",
      "threshold = 0.8000000000000003\n",
      "accuracy\t> 0.8033\n",
      "recall\t\t> 0.0\n",
      "precision\t> 0.0\n",
      "auc\t\t> 0.8041\n",
      "==================================================\n"
     ]
    }
   ],
   "source": [
    "thresholds = np.arange(0.2, 0.9, 0.1)\n",
    "for threshold in thresholds:\n",
    "    predict_value, predict_proba = change_threshold(x_data, theta, threshold)\n",
    "    print(f'threshold = {threshold}')\n",
    "    get_score(y_data, predict_value, predict_proba)\n",
    "    print('='*50)"
   ]
  },
  {
   "cell_type": "code",
   "execution_count": 264,
   "metadata": {},
   "outputs": [
    {
     "name": "stdout",
     "output_type": "stream",
     "text": [
      "threshold = 0.3\n",
      "accuracy\t> 0.7827\n",
      "recall\t\t> 0.6108\n",
      "precision\t> 0.4602\n",
      "auc\t\t> 0.8041\n",
      "==================================================\n",
      "threshold = 0.35\n",
      "accuracy\t> 0.8013\n",
      "recall\t\t> 0.4957\n",
      "precision\t> 0.4945\n",
      "auc\t\t> 0.8041\n",
      "==================================================\n",
      "threshold = 0.39999999999999997\n",
      "accuracy\t> 0.8104\n",
      "recall\t\t> 0.3962\n",
      "precision\t> 0.5233\n",
      "auc\t\t> 0.8041\n",
      "==================================================\n",
      "threshold = 0.44999999999999996\n",
      "accuracy\t> 0.8171\n",
      "recall\t\t> 0.3125\n",
      "precision\t> 0.5628\n",
      "auc\t\t> 0.8041\n",
      "==================================================\n",
      "threshold = 0.49999999999999994\n",
      "accuracy\t> 0.8205\n",
      "recall\t\t> 0.2294\n",
      "precision\t> 0.6168\n",
      "auc\t\t> 0.8041\n",
      "==================================================\n",
      "threshold = 0.5499999999999999\n",
      "accuracy\t> 0.8181\n",
      "recall\t\t> 0.148\n",
      "precision\t> 0.6678\n",
      "auc\t\t> 0.8041\n",
      "==================================================\n",
      "threshold = 0.5999999999999999\n",
      "accuracy\t> 0.8138\n",
      "recall\t\t> 0.083\n",
      "precision\t> 0.731\n",
      "auc\t\t> 0.8041\n",
      "==================================================\n",
      "threshold = 0.6499999999999999\n",
      "accuracy\t> 0.8078\n",
      "recall\t\t> 0.0337\n",
      "precision\t> 0.7414\n",
      "auc\t\t> 0.8041\n",
      "==================================================\n",
      "threshold = 0.7\n",
      "accuracy\t> 0.8047\n",
      "recall\t\t> 0.0141\n",
      "precision\t> 0.6429\n",
      "auc\t\t> 0.8041\n",
      "==================================================\n",
      "threshold = 0.7499999999999999\n",
      "accuracy\t> 0.8034\n",
      "recall\t\t> 0.0047\n",
      "precision\t> 0.5\n",
      "auc\t\t> 0.8041\n",
      "==================================================\n",
      "threshold = 0.7999999999999998\n",
      "accuracy\t> 0.8033\n",
      "recall\t\t> 0.0\n",
      "precision\t> 0.0\n",
      "auc\t\t> 0.8041\n",
      "==================================================\n",
      "threshold = 0.8499999999999999\n",
      "accuracy\t> 0.8033\n",
      "recall\t\t> 0.0\n",
      "precision\t> 0.0\n",
      "auc\t\t> 0.8041\n",
      "==================================================\n",
      "threshold = 0.8999999999999999\n",
      "accuracy\t> 0.8034\n",
      "recall\t\t> 0.0\n",
      "precision\t> 0.0\n",
      "auc\t\t> 0.8041\n",
      "==================================================\n"
     ]
    },
    {
     "name": "stderr",
     "output_type": "stream",
     "text": [
      "c:\\Users\\joong\\anaconda3\\envs\\ml\\lib\\site-packages\\sklearn\\metrics\\_classification.py:1334: UndefinedMetricWarning: Precision is ill-defined and being set to 0.0 due to no predicted samples. Use `zero_division` parameter to control this behavior.\n",
      "  _warn_prf(average, modifier, msg_start, len(result))\n"
     ]
    },
    {
     "data": {
      "image/png": "[encoded data removed]",
      "text/plain": [
       "<Figure size 1300x600 with 1 Axes>"
      ]
     },
     "metadata": {},
     "output_type": "display_data"
    }
   ],
   "source": [
    "thresholds = np.arange(0.3, 0.9, 0.05)\n",
    "accuracy_dict = {}\n",
    "for threshold in thresholds:\n",
    "    predict_value, predict_proba = change_threshold(x_data, theta, threshold)\n",
    "    print(f'threshold = {threshold}')\n",
    "    accuracy, _, _, _ = get_score(y_data, predict_value, predict_proba)\n",
    "    accuracy_dict[threshold] = accuracy\n",
    "    print('='*50)\n",
    "\n",
    "plt.figure(figsize=(13, 6))\n",
    "sns.lineplot(x=thresholds, y=list(accuracy_dict.values()))\n",
    "#plt.axvline(x=0.74, ymin=0, ymax=1, ls='--', c='red')\n",
    "#plt.axhline(y=accuracy_dict[0.74], xmin=0, xmax=1, ls='--', c='green')\n",
    "plt.xticks(ticks=thresholds)\n",
    "plt.show()\n",
    "\n",
    "# 구간을 좀 더 세밀하게 하여 thresholds를 조정해본 결과\n",
    "# threhsold가 0.8일 때 accuracy가 0.9091로 가장 높게 나왔다.\n",
    "# 이 때의 다른 평가지표들도 다른 threshold에 비해 고르게 좋은 결과가 나왔다."
   ]
  }
 ],
 "metadata": {
  "kernelspec": {
   "display_name": "Python 3.9.12 ('ml')",
   "language": "python",
   "name": "python3"
  },
  "language_info": {
   "codemirror_mode": {
    "name": "ipython",
    "version": 3
   },
   "file_extension": ".py",
   "mimetype": "text/x-python",
   "name": "python",
   "nbconvert_exporter": "python",
   "pygments_lexer": "ipython3",
   "version": "3.9.12"
  },
  "orig_nbformat": 4,
  "vscode": {
   "interpreter": {
    "hash": "08511fb726953861695b9cebc649e5cfa50177e02ef8da1c1316f73897c02d54"
   }
  }
 },
 "nbformat": 4,
 "nbformat_minor": 2
}
