{
 "cells": [
  {
   "cell_type": "code",
   "execution_count": 1,
   "metadata": {},
   "outputs": [],
   "source": [
    "from IPython.display import Image"
   ]
  },
  {
   "cell_type": "markdown",
   "metadata": {},
   "source": [
    "다중 선형회귀(multiple linear regression)\n",
    "다중 선형회귀를 분석하기 전에 일단 선형회귀부터 간단하게 알아보자.\n",
    "\n",
    "![title](https://upload.wikimedia.org/wikipedia/commons/thumb/b/be/Normdist_regression.png/300px-Normdist_regression.png)\n",
    "\n",
    "통계학에서 선형 회귀는 종속 변수 y와 한 개 이상의 독립 변수 (또는 설명 변수) X와의 선형 상관 관계를 모델링하는 회귀분석 기법이다.\n",
    "기본적인 모델은 ${\\displaystyle \\mathbf {y} =\\mathbf {X} {\\boldsymbol {\\theta }1}+ {\\boldsymbol {\\theta }0} +{\\boldsymbol {\\varepsilon }},\\,}$ 이렇고, \n",
    "잘 보면 알겠지만 결국 기존의 분산점을 기준으로 최적화된 1차방정식 $y=ax+b$를 찾는것이 목적이라 할 수 있겠다.\n",
    "\n",
    "${\\displaystyle {\\boldsymbol {\\theta }}\\,}$ 는 p차원 파라미터 벡터이다. 이것의 각 원소는 회귀 계수라고 불리기도 한다.\n",
    " 파라미터 벡터의 원소는 종속 변수에 대한 편미분으로 해석할 수도 있다.\n",
    "\n",
    "${\\displaystyle \\varepsilon _{i}}$ 는 오차항, 노이즈이다.\n",
    " 이 변수는 종속 변수 yi에 대한 모든 오차 요인을 포함한다.\n",
    "\n",
    "예제. 작은 공을 던져 올리고, 그것의 높이 $hi$ 를 시간 $ti$ 에서 측정한다고 하자. 이를 수식으로 표현하면 다음과 같다.\n",
    "\n",
    "${\\displaystyle h_{i}=\\theta _{1}t_{i}+\\theta _{2}t_{i}^{2}+\\varepsilon _{i},}$ ${\\displaystyle h_{i}=\\theta _{1}t_{i}+\\theta _{2}t_{i}^{2}+\\varepsilon _{i},}$\n",
    "\n",
    "이 식에서 $\\mathbf{\\theta}1$ 는 공의 초기 속도이며, $\\mathbf{\\theta}2$ 는 중력에 비례하는 계수이다. εi는 측정 오차를 의미한다. \n",
    "선형 회귀는 측정한 데이터를 사용해 $\\mathbf{\\theta}1$ 과 $\\mathbf{\\theta}2$ 를 추정할 때 사용할 수 있다. 이렇게 세워진 모델은 시간 변수에 대해서는 비선형이지만, 파라미터 $\\mathbf{\\theta}1 하고 \\mathbf{\\theta}2$ 에 대해서는 선형이다.\n",
    " 만약 독립 변수를 다음과 같이 표현하면, $ xi = (xi1, xi2)  = (ti, ti^2)$, 식을 다음과 같이 쓸 수 있다.\n",
    "\n",
    "${\\displaystyle h_{i}=\\mathbf {x} _{i}^{\\rm {T}}{\\boldsymbol {\\theta }}+\\varepsilon _{i}.}{\\displaystyle h_{i}=\\mathbf {x} _{i}^{\\rm {T}}{\\boldsymbol {\\theta }}+\\varepsilon _{i}.}$\n",
    "\n",
    "좀더 간단히 살펴본다면\n",
    "\n",
    "${\\displaystyle h_{i}=\\theta _{1}t_{i}+\\theta _{2}t_{i}^{2}+\\varepsilon _{i},}$ ${\\displaystyle h_{i}=\\theta _{1}t_{i}+\\theta _{2}t_{i}^{2}+\\varepsilon _{i},}$\n",
    "\n",
    "${y=x0t+ \\frac{1}{2}\\ *gt^2}$  앱실론은 오차입니다. 오차라는게 없으면 선형모델이 정확히 일치하지 않으면 무한히 루프를 돌릴테니\n",
    "어느정도 수준이 되면 그만해도 된다. 라고 알려주는거죠\n",
    "\n",
    "식이랑 아주 유사하지 않나? 즉 여기서 물체가 떨어지는걸 여러번 실험하면서 ${\\mathbf {\\theta}1,  {\\theta}2}$ 를 유추해내는게 선형회귀의 본질이라 볼 수 있겠다.  \n",
    "\n",
    "여기서 근데 그럼 여기서 문제가 하나 생긴다. 도대체 어떻게 우리는 컴퓨터한테 저 점들을 보고 최적화된 선을 그리라고 명령할 수 있을까?\n",
    "이제 여기서 등장하는 개념이 비용함수(cost function)이다.\n",
    "머신러닝에서 처음 선형회귀를 공부할때 등장하는 그것 경사하강법의 본질은 이 cost라는 애를 줄이는게 목적인것!\n",
    "cost함수는 일반적으로 J로 표현하고 내부에서 하는일은 이렇다.\n",
    "\n",
    "1. ${\\mathbf {\\theta}0,  {\\theta}1}$ 를 임의의 값으로 시작한다. \n",
    "2. ${\\mathbf {\\theta}}$ 값을 이용해서 가설(예측) 함수를 만든다.\n",
    "3. 이제 가설함수 h(x) 값이랑 실제 함수값 y 를 비교해보자.\n",
    "4. 가설함수랑 실제 함수의 값차이를 cost라고 한다.\n",
    "5. cost가 0에 가까워지면 최적화된 선에 가까워짐을 의미한다.\n",
    "\n",
    "수식 유도는 복잡하니 실제로 우리가 만들어서 쓸 함수만 보자 \n",
    "\n",
    "![title](https://raw.githubusercontent.com/satishgunjal/Images/master/Cost_Function_Formula.png) \n",
    "\n",
    "![title](https://raw.githubusercontent.com/satishgunjal/Images/master/Square_Error_Function.png)\n",
    "\n",
    "이를 그래프로 나타내면 다음과 같은 형태가 나온다.\n",
    "\n",
    "![title](https://raw.githubusercontent.com/satishgunjal/Images/master/Convex_Function.png)\n",
    "\n",
    "기울기는 양수나 음수 무엇이 나오냐에 따라 ${\\mathbf {\\theta}}$ 값을 늘릴지 감소시킬지 결정할 수 있는데 예를들자면\n",
    "\n",
    "![title](https://raw.githubusercontent.com/satishgunjal/Images/master/Negative_Slope.png) \n",
    "\n",
    "이 상황에선 ${\\mathbf {\\theta}}$ 값이 증가하는게 올바른 학습에 도움이 될것이다.\n",
    "\n",
    "그리고 이제 머신러닝에서 정말 자주쓰이는 학습률(learning rate) 이 등장한다.\n",
    "\n",
    "기울기 값이 급격하게 변화하면 데이터가 이상하게 측정될거고 \n",
    "반대로 기울기가 아주 천천히 바뀌면 프로그램 돌리는데 한세월 걸릴거다. \n",
    "이 크기를 제어하는데 쓰는게 학습률 ${{\\alpha}}$ 고 이에따른  ${\\mathbf {\\theta}}$ 값 변화에 대한 최종적인 식은 이렇게 된다.\n",
    "\n",
    "![title](https://raw.githubusercontent.com/satishgunjal/Images/master/Gradient_Descent_Formula.png)\n",
    "\n",
    "학습률은 일반적으로 0.01을 사용한다.\n",
    "\n",
    "이제 개념은 대충 짚어봤으니 실제로 코드로 확인을 해보자"
   ]
  },
  {
   "cell_type": "code",
   "execution_count": 2,
   "metadata": {},
   "outputs": [
    {
     "data": {
      "text/html": [
       "<div>\n",
       "<style scoped>\n",
       "    .dataframe tbody tr th:only-of-type {\n",
       "        vertical-align: middle;\n",
       "    }\n",
       "\n",
       "    .dataframe tbody tr th {\n",
       "        vertical-align: top;\n",
       "    }\n",
       "\n",
       "    .dataframe thead th {\n",
       "        text-align: right;\n",
       "    }\n",
       "</style>\n",
       "<table border=\"1\" class=\"dataframe\">\n",
       "  <thead>\n",
       "    <tr style=\"text-align: right;\">\n",
       "      <th></th>\n",
       "      <th>population</th>\n",
       "      <th>profit</th>\n",
       "    </tr>\n",
       "  </thead>\n",
       "  <tbody>\n",
       "    <tr>\n",
       "      <th>0</th>\n",
       "      <td>6.1101</td>\n",
       "      <td>17.5920</td>\n",
       "    </tr>\n",
       "    <tr>\n",
       "      <th>1</th>\n",
       "      <td>5.5277</td>\n",
       "      <td>9.1302</td>\n",
       "    </tr>\n",
       "    <tr>\n",
       "      <th>2</th>\n",
       "      <td>8.5186</td>\n",
       "      <td>13.6620</td>\n",
       "    </tr>\n",
       "    <tr>\n",
       "      <th>3</th>\n",
       "      <td>7.0032</td>\n",
       "      <td>11.8540</td>\n",
       "    </tr>\n",
       "    <tr>\n",
       "      <th>4</th>\n",
       "      <td>5.8598</td>\n",
       "      <td>6.8233</td>\n",
       "    </tr>\n",
       "  </tbody>\n",
       "</table>\n",
       "</div>"
      ],
      "text/plain": [
       "   population   profit\n",
       "0      6.1101  17.5920\n",
       "1      5.5277   9.1302\n",
       "2      8.5186  13.6620\n",
       "3      7.0032  11.8540\n",
       "4      5.8598   6.8233"
      ]
     },
     "execution_count": 2,
     "metadata": {},
     "output_type": "execute_result"
    }
   ],
   "source": [
    "import numpy as np\n",
    "import pandas as pd\n",
    "import matplotlib.pyplot as plt\n",
    "\n",
    "df = pd.read_csv('https://raw.githubusercontent.com/satishgunjal/datasets/master/univariate_profits_and_populations_from_the_cities.csv')\n",
    "df.head() # To get first n rows from the dataset default value of n is 5"
   ]
  },
  {
   "cell_type": "markdown",
   "metadata": {},
   "source": [
    "이 자료는 도시의 인구수와 푸드트럭 이익에 대한 상관관계를 나타내는 자료다. 1열은 인구 2열은 이익을 나타내고 있다."
   ]
  },
  {
   "cell_type": "code",
   "execution_count": 3,
   "metadata": {},
   "outputs": [
    {
     "name": "stdout",
     "output_type": "stream",
     "text": [
      "X =  [6.1101 5.5277 8.5186 7.0032 5.8598]\n",
      "y =  [17.592   9.1302 13.662  11.854   6.8233]\n",
      "m =  97\n"
     ]
    }
   ],
   "source": [
    "X = df.values[:, 0]  # get input values from first column\n",
    "y = df.values[:, 1]  # get output values from second column\n",
    "m = len(y) # Number of training examples\n",
    "print('X = ', X[: 5]) # Show only first 5 records\n",
    "print('y = ', y[: 5])\n",
    "print('m = ', m)"
   ]
  },
  {
   "cell_type": "markdown",
   "metadata": {},
   "source": [
    "한번 시각화를 진행해보자."
   ]
  },
  {
   "cell_type": "code",
   "execution_count": 4,
   "metadata": {},
   "outputs": [
    {
     "data": {
      "text/plain": [
       "Text(0.5, 1.0, 'Scatter plot of training data')"
      ]
     },
     "execution_count": 4,
     "metadata": {},
     "output_type": "execute_result"
    },
    {
     "data": {
      "image/png": "[encoded data removed]",
      "text/plain": [
       "<Figure size 640x480 with 1 Axes>"
      ]
     },
     "metadata": {},
     "output_type": "display_data"
    }
   ],
   "source": [
    "plt.scatter(X,y, color='red',marker= '+')\n",
    "plt.grid()\n",
    "plt.rcParams[\"figure.figsize\"] = (10,6)\n",
    "plt.xlabel('Population of City in 10,000s')\n",
    "plt.ylabel('Profit in $10,000s')\n",
    "plt.title('Scatter plot of training data')"
   ]
  },
  {
   "cell_type": "markdown",
   "metadata": {},
   "source": [
    "데이터만 보면 뭔가 직선이 예쁘게 잘 나오게 생겼다.\n",
    "이제 가설함수를 만들어보자.\n",
    "for 루프를 돌려서 하나하나 만들어도 되고 \n",
    "행렬을 이용해서 한번에 만들어도 되지만\n",
    "행렬이 계산이 압도적으로 빠르니까 행렬을 쓰자.\n",
    "\n",
    "단 주의할점은 행렬을 그대로 쓰면 오류가 난다.\n",
    "이유는 \n",
    "\n",
    "![title](https://raw.githubusercontent.com/satishgunjal/Images/master/X_matrix_2x1.png)\n",
    "\n",
    "![title](https://raw.githubusercontent.com/satishgunjal/Images/master/theta_matrix_2x1.png)\n",
    "\n",
    "얘네는 차원이 달라서 수용이 불가한것, ${\\mathbf {\\theta}0}$ 을 추가해줘야 하니까 행렬 x에다가 1로 된 열을 추가하자. \n",
    "\n",
    "![title](https://raw.githubusercontent.com/satishgunjal/Images/master/X_matrix_2x2.png)\n",
    "\n",
    "그렇게 되면\n",
    "\n",
    "![title](https://raw.githubusercontent.com/satishgunjal/Images/master/X_multiply_theta.png)\n",
    "\n",
    "이렇게 이쁜 1차원 행렬이 완성된다.\n",
    "![title](https://raw.githubusercontent.com/satishgunjal/Images/master/X_multiply_theta_result.PNG)"
   ]
  },
  {
   "cell_type": "code",
   "execution_count": 5,
   "metadata": {},
   "outputs": [
    {
     "data": {
      "text/plain": [
       "array([[1.],\n",
       "       [1.],\n",
       "       [1.],\n",
       "       [1.],\n",
       "       [1.]])"
      ]
     },
     "execution_count": 5,
     "metadata": {},
     "output_type": "execute_result"
    }
   ],
   "source": [
    "#Lets create a matrix with single column of ones\n",
    "X_0 = np.ones((m, 1)) #1로 가득찬 행렬을 만드는것 뒤에 요소로 몇차원으로 만들지 정할 수 있다.\n",
    "X_0[:5]"
   ]
  },
  {
   "cell_type": "code",
   "execution_count": 6,
   "metadata": {},
   "outputs": [
    {
     "data": {
      "text/plain": [
       "array([[6.1101],\n",
       "       [5.5277],\n",
       "       [8.5186],\n",
       "       [7.0032],\n",
       "       [5.8598]])"
      ]
     },
     "execution_count": 6,
     "metadata": {},
     "output_type": "execute_result"
    }
   ],
   "source": [
    "# Using reshape function convert X 1D array to 2D array of dimension 97x1\n",
    "X_1 = X.reshape(m, 1)\n",
    "X_1[:5]"
   ]
  },
  {
   "cell_type": "code",
   "execution_count": 7,
   "metadata": {},
   "outputs": [
    {
     "data": {
      "text/plain": [
       "array([[1.    , 6.1101],\n",
       "       [1.    , 5.5277],\n",
       "       [1.    , 8.5186],\n",
       "       [1.    , 7.0032],\n",
       "       [1.    , 5.8598]])"
      ]
     },
     "execution_count": 7,
     "metadata": {},
     "output_type": "execute_result"
    }
   ],
   "source": [
    "# Lets use hstack() function from numpy to stack X_0 and X_1 horizontally (i.e. column wise) to make a single 2D array. \n",
    "# This will be our final X matrix (feature matrix)\n",
    "X = np.hstack((X_0, X_1))\n",
    "X[:5]"
   ]
  },
  {
   "cell_type": "markdown",
   "metadata": {},
   "source": [
    "이제 ${\\mathbf {\\theta}}$ 값도 한번 가지고 놀아보자. \n",
    "${\\mathbf {\\theta}}$ 은 일단 0으로 시작할것이다.\n",
    "어떻게 초기화하든 그건 상관없다. 위에 그래프를 보고 기울기가 어느쪽에 가까울거 같은데? 싶어서 그냥 그 기울기를 넣어도 문제가 없다는것"
   ]
  },
  {
   "cell_type": "code",
   "execution_count": 8,
   "metadata": {},
   "outputs": [
    {
     "data": {
      "text/plain": [
       "array([0., 0.])"
      ]
     },
     "execution_count": 8,
     "metadata": {},
     "output_type": "execute_result"
    }
   ],
   "source": [
    "theta = np.zeros(2)\n",
    "theta"
   ]
  },
  {
   "cell_type": "markdown",
   "metadata": {},
   "source": [
    "이제 비용함수를 정의해보자.\n",
    "여기서 쓰이는 numpy 개념은 세가지가 존재한다.\n",
    "numpy.dot() 이 함수는 두 배열의 내적을 반환한다. 2차원 벡터의 경우 행렬 곱셈과 동일하다.\n",
    "numpy.subtract() 이 함수는 요소별 빼기를 수행한다.\n",
    "numpy.square() 이 함수는 요소별 제곱을 수행한다."
   ]
  },
  {
   "cell_type": "code",
   "execution_count": 9,
   "metadata": {},
   "outputs": [],
   "source": [
    "def compute_cost(X, y, theta):\n",
    "  \"\"\"\n",
    "  Compute cost for linear regression.\n",
    "\n",
    "  Input Parameters\n",
    "  ----------------\n",
    "  X : 2D array where each row represent the training example and each column represent the feature ndarray. Dimension(m x n)\n",
    "      m= number of training examples\n",
    "      n= number of features (including X_0 column of ones)\n",
    "  y : 1D array of labels/target value for each traing example. dimension(1 x m)\n",
    "\n",
    "  theta : 1D array of fitting parameters or weights. Dimension (1 x n)\n",
    "\n",
    "  Output Parameters\n",
    "  -----------------\n",
    "  J : Scalar value.\n",
    "  \"\"\"\n",
    "  predictions = X.dot(theta)\n",
    "  #print('predictions= ', predictions[:5])\n",
    "  errors = np.subtract(predictions, y)\n",
    "  #print('errors= ', errors[:5]) \n",
    "  sqrErrors = np.square(errors)\n",
    "  #print('sqrErrors= ', sqrErrors[:5]) \n",
    "  J = 1 / (2 * m) * np.sum(sqrErrors)\n",
    "\n",
    "  return J"
   ]
  },
  {
   "cell_type": "code",
   "execution_count": 10,
   "metadata": {},
   "outputs": [
    {
     "name": "stdout",
     "output_type": "stream",
     "text": [
      "The cost for given values of theta_0 and theta_1 = 32.072733877455676\n"
     ]
    }
   ],
   "source": [
    "# Lets compute the cost for theta values\n",
    "cost = compute_cost(X, y, theta)\n",
    "print('The cost for given values of theta_0 and theta_1 =', cost)"
   ]
  },
  {
   "cell_type": "markdown",
   "metadata": {},
   "source": [
    "주어진 ${\\mathbf {\\theta}}$ 값에 대한 비용을 반환하는 compute_cost() 함수를 만들었으니\n",
    "경사하강법을 구현한 함수 gradient_descent() 함수를 만들어 보자.\n",
    "이 함수에서 루프를 실행하고 모든 반복에 대해 배치 경사 하강 알고리즘을 사용하여 세타 값을 계산한다.\n",
    "그리고 이 ${\\mathbf {\\theta}}$ 값을 사용하여 비용 함수를 사용하여 '비용'을 계산하고 리스트에 저장한다.\n",
    "알고리즘이 제대로 작동하고 주어진 매개변수(알파 및 세타)가 정확하면 '비용' 값은 모든 단계에서 감소해야 한다.\n",
    "최종목적은 우리는 cost 값에 해당하는 ${\\mathbf {\\theta}}$ 매개변수를 얻는것\n",
    "즉 코스트가 가장 작아지는 값을 찾는것"
   ]
  },
  {
   "cell_type": "code",
   "execution_count": 11,
   "metadata": {},
   "outputs": [],
   "source": [
    "def gradient_descent(X, y, theta, alpha, iterations):\n",
    "  \"\"\"\n",
    "  Compute cost for linear regression.\n",
    "\n",
    "  Input Parameters\n",
    "  ----------------\n",
    "  X : 2D array where each row represent the training example and each column represent the feature ndarray. Dimension(m x n)\n",
    "      m= number of training examples\n",
    "      n= number of features (including X_0 column of ones)\n",
    "  y : 1D array of labels/target value for each traing example. dimension(m x 1)\n",
    "  theta : 1D array of fitting parameters or weights. Dimension (1 x n)\n",
    "  alpha : Learning rate. Scalar value\n",
    "  iterations: No of iterations. Scalar value. \n",
    "\n",
    "  Output Parameters\n",
    "  -----------------\n",
    "  theta : Final Value. 1D array of fitting parameters or weights. Dimension (1 x n)\n",
    "  cost_history: Conatins value of cost for each iteration. 1D array. Dimansion(m x 1)\n",
    "  \"\"\"\n",
    "  cost_history = np.zeros(iterations) #반복하는 횟수만큼 cost를 저장할 0이 들어있는 행렬 만들기\n",
    "\n",
    "  for i in range(iterations): #반복 시작\n",
    "    predictions = X.dot(theta) #예측값은 X에 세타를 곱해준  벡터 내적\n",
    "    #print('predictions= ', predictions[:5])\n",
    "    errors = np.subtract(predictions, y) #에러는 예측값과 y를 빼준 값\n",
    "    #print('errors= ', errors[:5])\n",
    "    sum_delta = (alpha / m) * X.transpose().dot(errors)#세타의 수정값 sum_delta 공식 그대로 넣은것 \n",
    "    #print('sum_delta= ', sum_delta[:5])\n",
    "    theta = theta - sum_delta #수정된 세타의 값 \n",
    "\n",
    "    cost_history[i] = compute_cost(X, y, theta) #cost를 계산한 값에 관한 기록을 cost history에 저장하자.   \n",
    "\n",
    "  return theta, cost_history"
   ]
  },
  {
   "cell_type": "code",
   "execution_count": 12,
   "metadata": {},
   "outputs": [
    {
     "name": "stdout",
     "output_type": "stream",
     "text": [
      "Final value of theta = [-3.63029144  1.16636235]\n",
      "cost_history = [6.73719046 5.93159357 5.90115471 ... 4.48343473 4.48341145 4.48338826]\n"
     ]
    }
   ],
   "source": [
    "theta = [0., 0.]\n",
    "iterations = 1500\n",
    "alpha = 0.01\n",
    "\n",
    "theta, cost_history = gradient_descent(X, y, theta, alpha, iterations)\n",
    "print('Final value of theta =', theta)\n",
    "print('cost_history =', cost_history)"
   ]
  },
  {
   "cell_type": "markdown",
   "metadata": {},
   "source": [
    "자 이제 과연 함수가 제대로 작동했을지 확인해보자."
   ]
  },
  {
   "cell_type": "code",
   "execution_count": 13,
   "metadata": {},
   "outputs": [
    {
     "name": "stdout",
     "output_type": "stream",
     "text": [
      "[ 6.1101  5.5277  8.5186  7.0032  5.8598  8.3829  7.4764  8.5781  6.4862\n",
      "  5.0546  5.7107 14.164   5.734   8.4084  5.6407  5.3794  6.3654  5.1301\n",
      "  6.4296  7.0708  6.1891 20.27    5.4901  6.3261  5.5649 18.945  12.828\n",
      " 10.957  13.176  22.203   5.2524  6.5894  9.2482  5.8918  8.2111  7.9334\n",
      "  8.0959  5.6063 12.836   6.3534  5.4069  6.8825 11.708   5.7737  7.8247\n",
      "  7.0931  5.0702  5.8014 11.7     5.5416  7.5402  5.3077  7.4239  7.6031\n",
      "  6.3328  6.3589  6.2742  5.6397  9.3102  9.4536  8.8254  5.1793 21.279\n",
      " 14.908  18.959   7.2182  8.2951 10.236   5.4994 20.341  10.136   7.3345\n",
      "  6.0062  7.2259  5.0269  6.5479  7.5386  5.0365 10.274   5.1077  5.7292\n",
      "  5.1884  6.3557  9.7687  6.5159  8.5172  9.1802  6.002   5.5204  5.0594\n",
      "  5.7077  7.6366  5.8707  5.3054  8.2934 13.394   5.4369]\n"
     ]
    }
   ],
   "source": [
    "print(X[:,1]) #97개의 데이터에 근거한 x값 "
   ]
  },
  {
   "cell_type": "code",
   "execution_count": 14,
   "metadata": {},
   "outputs": [
    {
     "data": {
      "text/plain": [
       "array([ 3.49629916,  2.81700972,  6.30548288,  4.53797737,  3.20435866,\n",
       "        6.14720751,  5.08990004,  6.37488144,  3.93496804,  2.2652037 ,\n",
       "        3.03045403, 12.89006489,  3.05763028,  6.17694975,  2.94880867,\n",
       "        2.64403819,  3.79407147,  2.35326405,  3.86895193,  4.61682347,\n",
       "        3.58844178, 20.0118734 ,  2.7731545 ,  3.74823343,  2.8603984 ,\n",
       "       18.46644329, 11.33180479,  9.14954083, 11.73769889, 22.26645183,\n",
       "        2.49591017,  4.05533663,  7.15646085,  3.24168226,  5.94682646,\n",
       "        5.62292763,  5.81246151,  2.90868581, 11.34113569,  3.78007512,\n",
       "        2.67611315,  4.39719744, 10.02547896,  3.10393486,  5.49614404,\n",
       "        4.64283335,  2.28339895,  3.1362431 , 10.01614806,  2.83322216,\n",
       "        5.16431395,  2.56041001,  5.02866601,  5.23767815,  3.75604805,\n",
       "        3.78649011,  3.68769922,  2.94764231,  7.22877531,  7.39603168,\n",
       "        6.66332285,  2.41064908, 21.18873301, 13.75783848, 18.48277236,\n",
       "        4.78874528,  6.04480089,  8.30859358,  2.78400167, 20.09468513,\n",
       "        8.19195734,  4.92439322,  3.37511411,  4.79772627,  2.23289546,\n",
       "        4.00693259,  5.16244777,  2.24409254,  8.35291535,  2.32713754,\n",
       "        3.05203174,  2.42126298,  3.78275775,  7.76355245,  3.969609  ,\n",
       "        6.30384997,  7.07714821,  3.37021539,  2.80849528,  2.27080224,\n",
       "        3.02695495,  5.27675129,  3.21707201,  2.55772737,  6.04281808,\n",
       "       11.99196588,  2.71110402])"
      ]
     },
     "execution_count": 14,
     "metadata": {},
     "output_type": "execute_result"
    }
   ],
   "source": [
    "X.dot(theta) #97개의 데이터에 근거한 y값"
   ]
  },
  {
   "cell_type": "code",
   "execution_count": 15,
   "metadata": {},
   "outputs": [
    {
     "data": {
      "text/plain": [
       "<matplotlib.legend.Legend at 0x288d8cf8eb0>"
      ]
     },
     "execution_count": 15,
     "metadata": {},
     "output_type": "execute_result"
    },
    {
     "data": {
      "image/png": "[encoded data removed]",
      "text/plain": [
       "<Figure size 1000x600 with 1 Axes>"
      ]
     },
     "metadata": {},
     "output_type": "display_data"
    }
   ],
   "source": [
    "# Since X is list of list (feature matrix) lets take values of column of index 1 only\n",
    "plt.scatter(X[:,1], y, color='red', marker= '+', label= 'Training Data') #기존 트레이닝 데이터셋\n",
    "plt.plot(X[:,1],X.dot(theta), color='green', label='Linear Regression') #선형회귀를 이용해 얻은 세타값을 이용한 선형 그래프 y=ax+b\n",
    "\n",
    "plt.rcParams[\"figure.figsize\"] = (10,6)\n",
    "plt.grid()\n",
    "plt.xlabel('Population of City in 10,000s')\n",
    "plt.ylabel('Profit in $10,000s')\n",
    "plt.title('Linear Regression Fit')\n",
    "plt.legend()"
   ]
  },
  {
   "cell_type": "code",
   "execution_count": 16,
   "metadata": {},
   "outputs": [
    {
     "data": {
      "text/plain": [
       "Text(0.5, 1.0, 'Convergence of gradient descent')"
      ]
     },
     "execution_count": 16,
     "metadata": {},
     "output_type": "execute_result"
    },
    {
     "data": {
      "image/png": "[encoded data removed]",
      "text/plain": [
       "<Figure size 1000x600 with 1 Axes>"
      ]
     },
     "metadata": {},
     "output_type": "display_data"
    }
   ],
   "source": [
    "plt.plot(range(1, iterations + 1),cost_history, color='blue')\n",
    "plt.rcParams[\"figure.figsize\"] = (10,6)\n",
    "plt.grid()\n",
    "plt.xlabel('Number of iterations')\n",
    "plt.ylabel('Cost (J)')\n",
    "plt.title('Convergence of gradient descent')#경사 하강법이 적용된 모델 확인"
   ]
  },
  {
   "cell_type": "code",
   "execution_count": 17,
   "metadata": {},
   "outputs": [
    {
     "name": "stdout",
     "output_type": "stream",
     "text": [
      "For population = 35,000, our prediction of profit is 4519.7678677017675\n",
      "For population = 70,000, our prediction of profit is 45342.45012944712\n"
     ]
    }
   ],
   "source": [
    "predict1 = np.array([1, 3.5]).dot(theta)  #적용한 세타 모델을 이용해 인구수에 따른 수익 예측\n",
    "print(\"For population = 35,000, our prediction of profit is\", predict1 * 10000)\n",
    "\n",
    "predict2 = np.array([1, 7]).dot(theta)\n",
    "print(\"For population = 70,000, our prediction of profit is\", predict2 * 10000)"
   ]
  },
  {
   "cell_type": "code",
   "execution_count": 19,
   "metadata": {},
   "outputs": [
    {
     "ename": "AttributeError",
     "evalue": "'numpy.ndarray' object has no attribute '_decision_function'",
     "output_type": "error",
     "traceback": [
      "\u001b[1;31m---------------------------------------------------------------------------\u001b[0m",
      "\u001b[1;31mAttributeError\u001b[0m                            Traceback (most recent call last)",
      "Cell \u001b[1;32mIn [19], line 3\u001b[0m\n\u001b[0;32m      1\u001b[0m \u001b[38;5;28;01mfrom\u001b[39;00m \u001b[38;5;21;01msklearn\u001b[39;00m\u001b[38;5;21;01m.\u001b[39;00m\u001b[38;5;21;01mlinear_model\u001b[39;00m \u001b[38;5;28;01mimport\u001b[39;00m LinearRegression\n\u001b[1;32m----> 3\u001b[0m \u001b[43mLinearRegression\u001b[49m\u001b[38;5;241;43m.\u001b[39;49m\u001b[43mpredict\u001b[49m\u001b[43m(\u001b[49m\u001b[43mnp\u001b[49m\u001b[38;5;241;43m.\u001b[39;49m\u001b[43marray\u001b[49m\u001b[43m(\u001b[49m\u001b[43m[\u001b[49m\u001b[38;5;241;43m1\u001b[39;49m\u001b[43m,\u001b[49m\u001b[43m \u001b[49m\u001b[38;5;241;43m3.5\u001b[39;49m\u001b[43m]\u001b[49m\u001b[43m)\u001b[49m\u001b[43m,\u001b[49m\u001b[43mtheta\u001b[49m\u001b[43m)\u001b[49m\n",
      "File \u001b[1;32mc:\\Users\\joong\\anaconda3\\envs\\ML\\lib\\site-packages\\sklearn\\linear_model\\_base.py:386\u001b[0m, in \u001b[0;36mLinearModel.predict\u001b[1;34m(self, X)\u001b[0m\n\u001b[0;32m    372\u001b[0m \u001b[39mdef\u001b[39;00m \u001b[39mpredict\u001b[39m(\u001b[39mself\u001b[39m, X):\n\u001b[0;32m    373\u001b[0m     \u001b[39m\"\"\"\u001b[39;00m\n\u001b[0;32m    374\u001b[0m \u001b[39m    Predict using the linear model.\u001b[39;00m\n\u001b[0;32m    375\u001b[0m \n\u001b[1;32m   (...)\u001b[0m\n\u001b[0;32m    384\u001b[0m \u001b[39m        Returns predicted values.\u001b[39;00m\n\u001b[0;32m    385\u001b[0m \u001b[39m    \"\"\"\u001b[39;00m\n\u001b[1;32m--> 386\u001b[0m     \u001b[39mreturn\u001b[39;00m \u001b[39mself\u001b[39;49m\u001b[39m.\u001b[39;49m_decision_function(X)\n",
      "\u001b[1;31mAttributeError\u001b[0m: 'numpy.ndarray' object has no attribute '_decision_function'"
     ]
    }
   ],
   "source": [
    "from sklearn.linear_model import LinearRegression\n",
    "\n",
    "LinearRegression.predict(np.array([1, 3.5]),theta)"
   ]
  }
 ],
 "metadata": {
  "kernelspec": {
   "display_name": "Python 3.9.12 ('ml')",
   "language": "python",
   "name": "python3"
  },
  "language_info": {
   "codemirror_mode": {
    "name": "ipython",
    "version": 3
   },
   "file_extension": ".py",
   "mimetype": "text/x-python",
   "name": "python",
   "nbconvert_exporter": "python",
   "pygments_lexer": "ipython3",
   "version": "3.9.12"
  },
  "orig_nbformat": 4,
  "vscode": {
   "interpreter": {
    "hash": "08511fb726953861695b9cebc649e5cfa50177e02ef8da1c1316f73897c02d54"
   }
  }
 },
 "nbformat": 4,
 "nbformat_minor": 2
}
