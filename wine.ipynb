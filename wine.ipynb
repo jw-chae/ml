{
 "cells": [
  {
   "cell_type": "code",
   "execution_count": null,
   "metadata": {},
   "outputs": [],
   "source": []
  }
 ],
 "metadata": {
  "kernelspec": {
   "display_name": "Python 3.8.1 64-bit",
   "language": "python",
   "name": "python3"
  },
  "language_info": {
   "name": "python",
   "version": "3.8.1"
  },
  "orig_nbformat": 4,
  "vscode": {
   "interpreter": {
    "hash": "433724afb7679b4bdb9b22cfa416ad87a3168926a4eb2a04a0eb2a68cba3e97f"
   }
  }
 },
 "nbformat": 4,
 "nbformat_minor": 2
}
