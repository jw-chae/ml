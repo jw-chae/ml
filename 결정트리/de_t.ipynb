{
 "cells": [
  {
   "cell_type": "code",
   "execution_count": 73,
   "metadata": {},
   "outputs": [],
   "source": [
    "import pandas as pd \n",
    "import numpy as np\n",
    "\n",
    "data = pd.read_csv(\"./iris.data\")#, skiprows=1 header=None, names=col_names"
   ]
  },
  {
   "cell_type": "code",
   "execution_count": 74,
   "metadata": {},
   "outputs": [
    {
     "data": {
      "text/html": [
       "<div>\n",
       "<style scoped>\n",
       "    .dataframe tbody tr th:only-of-type {\n",
       "        vertical-align: middle;\n",
       "    }\n",
       "\n",
       "    .dataframe tbody tr th {\n",
       "        vertical-align: top;\n",
       "    }\n",
       "\n",
       "    .dataframe thead th {\n",
       "        text-align: right;\n",
       "    }\n",
       "</style>\n",
       "<table border=\"1\" class=\"dataframe\">\n",
       "  <thead>\n",
       "    <tr style=\"text-align: right;\">\n",
       "      <th></th>\n",
       "      <th>sepal.lenth</th>\n",
       "      <th>sepal.width</th>\n",
       "      <th>petal.lenth</th>\n",
       "      <th>petal.width</th>\n",
       "      <th>type</th>\n",
       "    </tr>\n",
       "  </thead>\n",
       "  <tbody>\n",
       "    <tr>\n",
       "      <th>0</th>\n",
       "      <td>5.1</td>\n",
       "      <td>3.5</td>\n",
       "      <td>1.4</td>\n",
       "      <td>0.2</td>\n",
       "      <td>0</td>\n",
       "    </tr>\n",
       "    <tr>\n",
       "      <th>1</th>\n",
       "      <td>4.9</td>\n",
       "      <td>3.0</td>\n",
       "      <td>1.4</td>\n",
       "      <td>0.2</td>\n",
       "      <td>0</td>\n",
       "    </tr>\n",
       "    <tr>\n",
       "      <th>2</th>\n",
       "      <td>4.7</td>\n",
       "      <td>3.2</td>\n",
       "      <td>1.3</td>\n",
       "      <td>0.2</td>\n",
       "      <td>0</td>\n",
       "    </tr>\n",
       "    <tr>\n",
       "      <th>3</th>\n",
       "      <td>4.6</td>\n",
       "      <td>3.1</td>\n",
       "      <td>1.5</td>\n",
       "      <td>0.2</td>\n",
       "      <td>0</td>\n",
       "    </tr>\n",
       "    <tr>\n",
       "      <th>4</th>\n",
       "      <td>5.0</td>\n",
       "      <td>3.6</td>\n",
       "      <td>1.4</td>\n",
       "      <td>0.2</td>\n",
       "      <td>0</td>\n",
       "    </tr>\n",
       "    <tr>\n",
       "      <th>...</th>\n",
       "      <td>...</td>\n",
       "      <td>...</td>\n",
       "      <td>...</td>\n",
       "      <td>...</td>\n",
       "      <td>...</td>\n",
       "    </tr>\n",
       "    <tr>\n",
       "      <th>145</th>\n",
       "      <td>6.7</td>\n",
       "      <td>3.0</td>\n",
       "      <td>5.2</td>\n",
       "      <td>2.3</td>\n",
       "      <td>2</td>\n",
       "    </tr>\n",
       "    <tr>\n",
       "      <th>146</th>\n",
       "      <td>6.3</td>\n",
       "      <td>2.5</td>\n",
       "      <td>5.0</td>\n",
       "      <td>1.9</td>\n",
       "      <td>2</td>\n",
       "    </tr>\n",
       "    <tr>\n",
       "      <th>147</th>\n",
       "      <td>6.5</td>\n",
       "      <td>3.0</td>\n",
       "      <td>5.2</td>\n",
       "      <td>2.0</td>\n",
       "      <td>2</td>\n",
       "    </tr>\n",
       "    <tr>\n",
       "      <th>148</th>\n",
       "      <td>6.2</td>\n",
       "      <td>3.4</td>\n",
       "      <td>5.4</td>\n",
       "      <td>2.3</td>\n",
       "      <td>2</td>\n",
       "    </tr>\n",
       "    <tr>\n",
       "      <th>149</th>\n",
       "      <td>5.9</td>\n",
       "      <td>3.0</td>\n",
       "      <td>5.1</td>\n",
       "      <td>1.8</td>\n",
       "      <td>2</td>\n",
       "    </tr>\n",
       "  </tbody>\n",
       "</table>\n",
       "<p>150 rows × 5 columns</p>\n",
       "</div>"
      ],
      "text/plain": [
       "     sepal.lenth  sepal.width  petal.lenth  petal.width  type\n",
       "0            5.1          3.5          1.4          0.2     0\n",
       "1            4.9          3.0          1.4          0.2     0\n",
       "2            4.7          3.2          1.3          0.2     0\n",
       "3            4.6          3.1          1.5          0.2     0\n",
       "4            5.0          3.6          1.4          0.2     0\n",
       "..           ...          ...          ...          ...   ...\n",
       "145          6.7          3.0          5.2          2.3     2\n",
       "146          6.3          2.5          5.0          1.9     2\n",
       "147          6.5          3.0          5.2          2.0     2\n",
       "148          6.2          3.4          5.4          2.3     2\n",
       "149          5.9          3.0          5.1          1.8     2\n",
       "\n",
       "[150 rows x 5 columns]"
      ]
     },
     "execution_count": 74,
     "metadata": {},
     "output_type": "execute_result"
    }
   ],
   "source": [
    "data"
   ]
  },
  {
   "cell_type": "code",
   "execution_count": 100,
   "metadata": {},
   "outputs": [],
   "source": [
    "import math\n",
    "def getEntropy(df, feature) :\n",
    "    print('len of data:',len(df[feature]))\n",
    "    #print(df[feature])\n",
    "    print('unique index list: ',list(df[feature].unique()))\n",
    "    unique = list(df[feature].unique()) # df[feature]에 존재하는 값들을 받아내기 위해\n",
    "    print(type(unique))\n",
    "    p = len(df[df[feature]==0])\n",
    "    print(p)\n",
    "\n",
    "    entropy = 0\n",
    "    for i in range(len(unique)):\n",
    "        #p = len(df[df[feature].str.contains(unique[i])])/len(df[feature]) # if feature is str use this code\n",
    "        p = len(df[df[feature]==i])/len(df[feature])\n",
    "\n",
    "        #각각yes일때와 no일때를 unique로 받은 리스트를 통해 p를 구했습니다\n",
    "        entropy = entropy - p*math.log(p,2)\n",
    "        #엔트로피 식을 이용해 for문 돌리면서 계속 -로 빼가는 방식으로 함수를 만들었습니다\n",
    "    return(entropy)\n"
   ]
  },
  {
   "cell_type": "code",
   "execution_count": 101,
   "metadata": {},
   "outputs": [
    {
     "name": "stdout",
     "output_type": "stream",
     "text": [
      "len of data: 150\n",
      "unique index list:  [0, 1, 2]\n",
      "<class 'list'>\n",
      "50\n"
     ]
    },
    {
     "data": {
      "text/plain": [
       "1.584962500721156"
      ]
     },
     "execution_count": 101,
     "metadata": {},
     "output_type": "execute_result"
    }
   ],
   "source": [
    "getEntropy(data, 'type')"
   ]
  },
  {
   "cell_type": "code",
   "execution_count": 5,
   "metadata": {},
   "outputs": [],
   "source": [
    "def getGainA(df, feature) :\n",
    "    info_D = getEntropy(df, feature) # 목표변수 Feature에 대한 Info(Entropy)를 구한다.\n",
    "    columns = list(df.loc[:, df.columns != feature])\n",
    "    # 목표변수를 제외한 나머지 설명변수들을 리스트 형태로 저장한다.\n",
    "    print(\"col\",columns)    \n",
    "\n",
    "    gains =[]\n",
    "    \n",
    "    for i in columns:\n",
    "        info_Di = 0\n",
    "        unique = list(df[i].unique()) #각 column에 존재하는 값들을 받기위해 unique함수를 사용했고\n",
    "        #print(f\"{i}에서 꽃잎 길이 가짓수\", len(unique))\n",
    "\n",
    "        #unique라는 변수로 list를 저장했습니다\n",
    "        for j in range(len(unique)):\n",
    "            new = df.loc[df[i] == unique[j]]\n",
    "            #print(new)\n",
    "            #for문을 돌리면서 그 값을 가지는 row들만 뽑아낸 new변수를 만들었습니다\n",
    "            info_Di += (len(new[i])/len(df[i])) *(getEntropy(new, feature))#기존 엔프로피에 feature에 대한 분할 후 분류값입니다.\n",
    "            #위에서 만든 entropy함수를 사용해 각각의 entropy를 구하고 확률에 곱한걸 더해서 info_di값을 구합니다 분류 후에도 엔트로피가 높다는건 데이터의 신빙성이 떨어지는것을 의미합니다.\n",
    "            #\n",
    "        \n",
    "        gain = info_D - info_Di\n",
    "        #infoD에서 infoDI를 빼서 gain을 얻습니다\n",
    "        gains.append(gain)\n",
    "    print(\"unique\",unique)\n",
    "    #print('new',new)\n",
    "        \n",
    "    result = dict(zip(columns,gains)) # 각 변수에 대한 Information Gain 을 Dictionary 형태로 저장한다.\n",
    "    return(result)"
   ]
  },
  {
   "cell_type": "code",
   "execution_count": 6,
   "metadata": {},
   "outputs": [
    {
     "ename": "AttributeError",
     "evalue": "Can only use .str accessor with string values!",
     "output_type": "error",
     "traceback": [
      "\u001b[1;31m---------------------------------------------------------------------------\u001b[0m",
      "\u001b[1;31mAttributeError\u001b[0m                            Traceback (most recent call last)",
      "Cell \u001b[1;32mIn [6], line 1\u001b[0m\n\u001b[1;32m----> 1\u001b[0m getGainA(data, \u001b[39m\"\u001b[39;49m\u001b[39mtype\u001b[39;49m\u001b[39m\"\u001b[39;49m)\n",
      "Cell \u001b[1;32mIn [5], line 2\u001b[0m, in \u001b[0;36mgetGainA\u001b[1;34m(df, feature)\u001b[0m\n\u001b[0;32m      1\u001b[0m \u001b[39mdef\u001b[39;00m \u001b[39mgetGainA\u001b[39m(df, feature) :\n\u001b[1;32m----> 2\u001b[0m     info_D \u001b[39m=\u001b[39m getEntropy(df, feature) \u001b[39m# 목표변수 Feature에 대한 Info(Entropy)를 구한다.\u001b[39;00m\n\u001b[0;32m      3\u001b[0m     columns \u001b[39m=\u001b[39m \u001b[39mlist\u001b[39m(df\u001b[39m.\u001b[39mloc[:, df\u001b[39m.\u001b[39mcolumns \u001b[39m!=\u001b[39m feature])\n\u001b[0;32m      4\u001b[0m     \u001b[39m# 목표변수를 제외한 나머지 설명변수들을 리스트 형태로 저장한다.\u001b[39;00m\n",
      "Cell \u001b[1;32mIn [3], line 11\u001b[0m, in \u001b[0;36mgetEntropy\u001b[1;34m(df, feature)\u001b[0m\n\u001b[0;32m      9\u001b[0m entropy \u001b[39m=\u001b[39m \u001b[39m0\u001b[39m\n\u001b[0;32m     10\u001b[0m \u001b[39mfor\u001b[39;00m i \u001b[39min\u001b[39;00m \u001b[39mrange\u001b[39m(\u001b[39mlen\u001b[39m(unique)):\n\u001b[1;32m---> 11\u001b[0m     p \u001b[39m=\u001b[39m \u001b[39mlen\u001b[39m(df[df[feature]\u001b[39m.\u001b[39;49mstr\u001b[39m.\u001b[39mcontains(unique[i])])\u001b[39m/\u001b[39m\u001b[39mlen\u001b[39m(df[feature])\n\u001b[0;32m     12\u001b[0m     \u001b[39m#각각yes일때와 no일때를 unique로 받은 리스트를 통해 p를 구했습니다\u001b[39;00m\n\u001b[0;32m     13\u001b[0m     entropy \u001b[39m=\u001b[39m entropy \u001b[39m-\u001b[39m p\u001b[39m*\u001b[39mmath\u001b[39m.\u001b[39mlog(p,\u001b[39m2\u001b[39m)\n",
      "File \u001b[1;32mc:\\Users\\joong\\anaconda3\\envs\\ml\\lib\\site-packages\\pandas\\core\\generic.py:5907\u001b[0m, in \u001b[0;36mNDFrame.__getattr__\u001b[1;34m(self, name)\u001b[0m\n\u001b[0;32m   5900\u001b[0m \u001b[39mif\u001b[39;00m (\n\u001b[0;32m   5901\u001b[0m     name \u001b[39mnot\u001b[39;00m \u001b[39min\u001b[39;00m \u001b[39mself\u001b[39m\u001b[39m.\u001b[39m_internal_names_set\n\u001b[0;32m   5902\u001b[0m     \u001b[39mand\u001b[39;00m name \u001b[39mnot\u001b[39;00m \u001b[39min\u001b[39;00m \u001b[39mself\u001b[39m\u001b[39m.\u001b[39m_metadata\n\u001b[0;32m   5903\u001b[0m     \u001b[39mand\u001b[39;00m name \u001b[39mnot\u001b[39;00m \u001b[39min\u001b[39;00m \u001b[39mself\u001b[39m\u001b[39m.\u001b[39m_accessors\n\u001b[0;32m   5904\u001b[0m     \u001b[39mand\u001b[39;00m \u001b[39mself\u001b[39m\u001b[39m.\u001b[39m_info_axis\u001b[39m.\u001b[39m_can_hold_identifiers_and_holds_name(name)\n\u001b[0;32m   5905\u001b[0m ):\n\u001b[0;32m   5906\u001b[0m     \u001b[39mreturn\u001b[39;00m \u001b[39mself\u001b[39m[name]\n\u001b[1;32m-> 5907\u001b[0m \u001b[39mreturn\u001b[39;00m \u001b[39mobject\u001b[39;49m\u001b[39m.\u001b[39;49m\u001b[39m__getattribute__\u001b[39;49m(\u001b[39mself\u001b[39;49m, name)\n",
      "File \u001b[1;32mc:\\Users\\joong\\anaconda3\\envs\\ml\\lib\\site-packages\\pandas\\core\\accessor.py:183\u001b[0m, in \u001b[0;36mCachedAccessor.__get__\u001b[1;34m(self, obj, cls)\u001b[0m\n\u001b[0;32m    180\u001b[0m \u001b[39mif\u001b[39;00m obj \u001b[39mis\u001b[39;00m \u001b[39mNone\u001b[39;00m:\n\u001b[0;32m    181\u001b[0m     \u001b[39m# we're accessing the attribute of the class, i.e., Dataset.geo\u001b[39;00m\n\u001b[0;32m    182\u001b[0m     \u001b[39mreturn\u001b[39;00m \u001b[39mself\u001b[39m\u001b[39m.\u001b[39m_accessor\n\u001b[1;32m--> 183\u001b[0m accessor_obj \u001b[39m=\u001b[39m \u001b[39mself\u001b[39;49m\u001b[39m.\u001b[39;49m_accessor(obj)\n\u001b[0;32m    184\u001b[0m \u001b[39m# Replace the property with the accessor object. Inspired by:\u001b[39;00m\n\u001b[0;32m    185\u001b[0m \u001b[39m# https://www.pydanny.com/cached-property.html\u001b[39;00m\n\u001b[0;32m    186\u001b[0m \u001b[39m# We need to use object.__setattr__ because we overwrite __setattr__ on\u001b[39;00m\n\u001b[0;32m    187\u001b[0m \u001b[39m# NDFrame\u001b[39;00m\n\u001b[0;32m    188\u001b[0m \u001b[39mobject\u001b[39m\u001b[39m.\u001b[39m\u001b[39m__setattr__\u001b[39m(obj, \u001b[39mself\u001b[39m\u001b[39m.\u001b[39m_name, accessor_obj)\n",
      "File \u001b[1;32mc:\\Users\\joong\\anaconda3\\envs\\ml\\lib\\site-packages\\pandas\\core\\strings\\accessor.py:182\u001b[0m, in \u001b[0;36mStringMethods.__init__\u001b[1;34m(self, data)\u001b[0m\n\u001b[0;32m    179\u001b[0m \u001b[39mdef\u001b[39;00m \u001b[39m__init__\u001b[39m(\u001b[39mself\u001b[39m, data) \u001b[39m-\u001b[39m\u001b[39m>\u001b[39m \u001b[39mNone\u001b[39;00m:\n\u001b[0;32m    180\u001b[0m     \u001b[39mfrom\u001b[39;00m \u001b[39mpandas\u001b[39;00m\u001b[39m.\u001b[39;00m\u001b[39mcore\u001b[39;00m\u001b[39m.\u001b[39;00m\u001b[39marrays\u001b[39;00m\u001b[39m.\u001b[39;00m\u001b[39mstring_\u001b[39;00m \u001b[39mimport\u001b[39;00m StringDtype\n\u001b[1;32m--> 182\u001b[0m     \u001b[39mself\u001b[39m\u001b[39m.\u001b[39m_inferred_dtype \u001b[39m=\u001b[39m \u001b[39mself\u001b[39;49m\u001b[39m.\u001b[39;49m_validate(data)\n\u001b[0;32m    183\u001b[0m     \u001b[39mself\u001b[39m\u001b[39m.\u001b[39m_is_categorical \u001b[39m=\u001b[39m is_categorical_dtype(data\u001b[39m.\u001b[39mdtype)\n\u001b[0;32m    184\u001b[0m     \u001b[39mself\u001b[39m\u001b[39m.\u001b[39m_is_string \u001b[39m=\u001b[39m \u001b[39misinstance\u001b[39m(data\u001b[39m.\u001b[39mdtype, StringDtype)\n",
      "File \u001b[1;32mc:\\Users\\joong\\anaconda3\\envs\\ml\\lib\\site-packages\\pandas\\core\\strings\\accessor.py:236\u001b[0m, in \u001b[0;36mStringMethods._validate\u001b[1;34m(data)\u001b[0m\n\u001b[0;32m    233\u001b[0m inferred_dtype \u001b[39m=\u001b[39m lib\u001b[39m.\u001b[39minfer_dtype(values, skipna\u001b[39m=\u001b[39m\u001b[39mTrue\u001b[39;00m)\n\u001b[0;32m    235\u001b[0m \u001b[39mif\u001b[39;00m inferred_dtype \u001b[39mnot\u001b[39;00m \u001b[39min\u001b[39;00m allowed_types:\n\u001b[1;32m--> 236\u001b[0m     \u001b[39mraise\u001b[39;00m \u001b[39mAttributeError\u001b[39;00m(\u001b[39m\"\u001b[39m\u001b[39mCan only use .str accessor with string values!\u001b[39m\u001b[39m\"\u001b[39m)\n\u001b[0;32m    237\u001b[0m \u001b[39mreturn\u001b[39;00m inferred_dtype\n",
      "\u001b[1;31mAttributeError\u001b[0m: Can only use .str accessor with string values!"
     ]
    }
   ],
   "source": [
    "getGainA(data, \"type\")"
   ]
  },
  {
   "cell_type": "code",
   "execution_count": null,
   "metadata": {},
   "outputs": [
    {
     "ename": "NameError",
     "evalue": "name 'getGainA' is not defined",
     "output_type": "error",
     "traceback": [
      "\u001b[1;31m---------------------------------------------------------------------------\u001b[0m",
      "\u001b[1;31mNameError\u001b[0m                                 Traceback (most recent call last)",
      "Cell \u001b[1;32mIn [61], line 1\u001b[0m\n\u001b[1;32m----> 1\u001b[0m my_dict \u001b[39m=\u001b[39m getGainA(df, \u001b[39m\"\u001b[39m\u001b[39mvariety\u001b[39m\u001b[39m\"\u001b[39m)\n\u001b[0;32m      2\u001b[0m \u001b[39mdef\u001b[39;00m \u001b[39mf1\u001b[39m(x):\n\u001b[0;32m      3\u001b[0m     \u001b[39mreturn\u001b[39;00m my_dict[x]\n",
      "\u001b[1;31mNameError\u001b[0m: name 'getGainA' is not defined"
     ]
    }
   ],
   "source": [
    "my_dict = getGainA(data, \"variety\")\n",
    "def f1(x):\n",
    "    return my_dict[x]\n",
    "key_max = max(my_dict.keys(), key=f1)\n",
    "print('정보 획득이 가장 높은 변수는',key_max, \"이며 정보 획득량은\", my_dict[key_max], \"이다.\")"
   ]
  },
  {
   "cell_type": "code",
   "execution_count": null,
   "metadata": {},
   "outputs": [
    {
     "name": "stdout",
     "output_type": "stream",
     "text": [
      "     sepal_length  sepal_width  petal_length  petal_width  type\n",
      "0             4.9          3.0           1.4          0.2     0\n",
      "1             4.7          3.2           1.3          0.2     0\n",
      "2             4.6          3.1           1.5          0.2     0\n",
      "3             5.0          3.6           1.4          0.2     0\n",
      "4             5.4          3.9           1.7          0.4     0\n",
      "..            ...          ...           ...          ...   ...\n",
      "144           6.7          3.0           5.2          2.3     2\n",
      "145           6.3          2.5           5.0          1.9     2\n",
      "146           6.5          3.0           5.2          2.0     2\n",
      "147           6.2          3.4           5.4          2.3     2\n",
      "148           5.9          3.0           5.1          1.8     2\n",
      "\n",
      "[149 rows x 5 columns]\n"
     ]
    },
    {
     "ename": "InvalidIndexError",
     "evalue": "(slice(None, None, None), slice(None, -1, None))",
     "output_type": "error",
     "traceback": [
      "\u001b[1;31m---------------------------------------------------------------------------\u001b[0m",
      "\u001b[1;31mTypeError\u001b[0m                                 Traceback (most recent call last)",
      "File \u001b[1;32mc:\\Users\\joong\\anaconda3\\envs\\ml\\lib\\site-packages\\pandas\\core\\indexes\\base.py:3800\u001b[0m, in \u001b[0;36mIndex.get_loc\u001b[1;34m(self, key, method, tolerance)\u001b[0m\n\u001b[0;32m   3799\u001b[0m \u001b[39mtry\u001b[39;00m:\n\u001b[1;32m-> 3800\u001b[0m     \u001b[39mreturn\u001b[39;00m \u001b[39mself\u001b[39;49m\u001b[39m.\u001b[39;49m_engine\u001b[39m.\u001b[39;49mget_loc(casted_key)\n\u001b[0;32m   3801\u001b[0m \u001b[39mexcept\u001b[39;00m \u001b[39mKeyError\u001b[39;00m \u001b[39mas\u001b[39;00m err:\n",
      "File \u001b[1;32mc:\\Users\\joong\\anaconda3\\envs\\ml\\lib\\site-packages\\pandas\\_libs\\index.pyx:138\u001b[0m, in \u001b[0;36mpandas._libs.index.IndexEngine.get_loc\u001b[1;34m()\u001b[0m\n",
      "File \u001b[1;32mc:\\Users\\joong\\anaconda3\\envs\\ml\\lib\\site-packages\\pandas\\_libs\\index.pyx:144\u001b[0m, in \u001b[0;36mpandas._libs.index.IndexEngine.get_loc\u001b[1;34m()\u001b[0m\n",
      "\u001b[1;31mTypeError\u001b[0m: '(slice(None, None, None), slice(None, -1, None))' is an invalid key",
      "\nDuring handling of the above exception, another exception occurred:\n",
      "\u001b[1;31mInvalidIndexError\u001b[0m                         Traceback (most recent call last)",
      "Cell \u001b[1;32mIn [102], line 4\u001b[0m\n\u001b[0;32m      2\u001b[0m \u001b[39mprint\u001b[39m(data)\n\u001b[0;32m      3\u001b[0m data\u001b[39m.\u001b[39mto_numpy()\n\u001b[1;32m----> 4\u001b[0m X,Y \u001b[39m=\u001b[39m data[:,:\u001b[39m-\u001b[39;49m\u001b[39m1\u001b[39;49m], data[:,\u001b[39m-\u001b[39m\u001b[39m1\u001b[39m]\u001b[39m#X is attributes(sepal.lenth to petal.width)  Y is type (label)\u001b[39;00m\n\u001b[0;32m      5\u001b[0m num_samples, num_features \u001b[39m=\u001b[39m np\u001b[39m.\u001b[39mshape(X)\n\u001b[0;32m      7\u001b[0m \u001b[39mprint\u001b[39m(\u001b[39m\"\u001b[39m\u001b[39msample:\u001b[39m\u001b[39m\"\u001b[39m ,num_samples,\u001b[39m\"\u001b[39m\u001b[39mfeature\u001b[39m\u001b[39m\"\u001b[39m, num_features)\n",
      "File \u001b[1;32mc:\\Users\\joong\\anaconda3\\envs\\ml\\lib\\site-packages\\pandas\\core\\frame.py:3805\u001b[0m, in \u001b[0;36mDataFrame.__getitem__\u001b[1;34m(self, key)\u001b[0m\n\u001b[0;32m   3803\u001b[0m \u001b[39mif\u001b[39;00m \u001b[39mself\u001b[39m\u001b[39m.\u001b[39mcolumns\u001b[39m.\u001b[39mnlevels \u001b[39m>\u001b[39m \u001b[39m1\u001b[39m:\n\u001b[0;32m   3804\u001b[0m     \u001b[39mreturn\u001b[39;00m \u001b[39mself\u001b[39m\u001b[39m.\u001b[39m_getitem_multilevel(key)\n\u001b[1;32m-> 3805\u001b[0m indexer \u001b[39m=\u001b[39m \u001b[39mself\u001b[39;49m\u001b[39m.\u001b[39;49mcolumns\u001b[39m.\u001b[39;49mget_loc(key)\n\u001b[0;32m   3806\u001b[0m \u001b[39mif\u001b[39;00m is_integer(indexer):\n\u001b[0;32m   3807\u001b[0m     indexer \u001b[39m=\u001b[39m [indexer]\n",
      "File \u001b[1;32mc:\\Users\\joong\\anaconda3\\envs\\ml\\lib\\site-packages\\pandas\\core\\indexes\\base.py:3807\u001b[0m, in \u001b[0;36mIndex.get_loc\u001b[1;34m(self, key, method, tolerance)\u001b[0m\n\u001b[0;32m   3802\u001b[0m         \u001b[39mraise\u001b[39;00m \u001b[39mKeyError\u001b[39;00m(key) \u001b[39mfrom\u001b[39;00m \u001b[39merr\u001b[39;00m\n\u001b[0;32m   3803\u001b[0m     \u001b[39mexcept\u001b[39;00m \u001b[39mTypeError\u001b[39;00m:\n\u001b[0;32m   3804\u001b[0m         \u001b[39m# If we have a listlike key, _check_indexing_error will raise\u001b[39;00m\n\u001b[0;32m   3805\u001b[0m         \u001b[39m#  InvalidIndexError. Otherwise we fall through and re-raise\u001b[39;00m\n\u001b[0;32m   3806\u001b[0m         \u001b[39m#  the TypeError.\u001b[39;00m\n\u001b[1;32m-> 3807\u001b[0m         \u001b[39mself\u001b[39;49m\u001b[39m.\u001b[39;49m_check_indexing_error(key)\n\u001b[0;32m   3808\u001b[0m         \u001b[39mraise\u001b[39;00m\n\u001b[0;32m   3810\u001b[0m \u001b[39m# GH#42269\u001b[39;00m\n",
      "File \u001b[1;32mc:\\Users\\joong\\anaconda3\\envs\\ml\\lib\\site-packages\\pandas\\core\\indexes\\base.py:5963\u001b[0m, in \u001b[0;36mIndex._check_indexing_error\u001b[1;34m(self, key)\u001b[0m\n\u001b[0;32m   5959\u001b[0m \u001b[39mdef\u001b[39;00m \u001b[39m_check_indexing_error\u001b[39m(\u001b[39mself\u001b[39m, key):\n\u001b[0;32m   5960\u001b[0m     \u001b[39mif\u001b[39;00m \u001b[39mnot\u001b[39;00m is_scalar(key):\n\u001b[0;32m   5961\u001b[0m         \u001b[39m# if key is not a scalar, directly raise an error (the code below\u001b[39;00m\n\u001b[0;32m   5962\u001b[0m         \u001b[39m# would convert to numpy arrays and raise later any way) - GH29926\u001b[39;00m\n\u001b[1;32m-> 5963\u001b[0m         \u001b[39mraise\u001b[39;00m InvalidIndexError(key)\n",
      "\u001b[1;31mInvalidIndexError\u001b[0m: (slice(None, None, None), slice(None, -1, None))"
     ]
    }
   ],
   "source": [
    "#data = data.to_numpy()\n",
    "print(data)\n",
    "data.to_numpy()\n",
    "X,Y = data[:,:-1], data[:,-1]#X is attributes(sepal.lenth to petal.width)  Y is type (label)\n",
    "num_samples, num_features = np.shape(X)\n",
    "\n",
    "print(\"sample:\" ,num_samples,\"feature\", num_features)"
   ]
  },
  {
   "cell_type": "code",
   "execution_count": null,
   "metadata": {},
   "outputs": [],
   "source": []
  }
 ],
 "metadata": {
  "kernelspec": {
   "display_name": "Python 3.9.12 ('ml')",
   "language": "python",
   "name": "python3"
  },
  "language_info": {
   "codemirror_mode": {
    "name": "ipython",
    "version": 3
   },
   "file_extension": ".py",
   "mimetype": "text/x-python",
   "name": "python",
   "nbconvert_exporter": "python",
   "pygments_lexer": "ipython3",
   "version": "3.9.12"
  },
  "orig_nbformat": 4,
  "vscode": {
   "interpreter": {
    "hash": "08511fb726953861695b9cebc649e5cfa50177e02ef8da1c1316f73897c02d54"
   }
  }
 },
 "nbformat": 4,
 "nbformat_minor": 2
}
