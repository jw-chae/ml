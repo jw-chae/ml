{
 "cells": [
  {
   "cell_type": "markdown",
   "metadata": {},
   "source": [
    "저번에는 다중 선형회귀의 원리와 구현을 해보았습니다.\n",
    "\n",
    "다중선형회귀가 충분히 강력한 알고리즘인건 알았지만  \n",
    "\n",
    "조그만한 문제가 하나 있다면 클래스가 선형적으로 구분되지 않을 때  \n",
    "\n",
    "수렴할 수 없다는 점 입니다. 에포크마다 적어도 하나의 샘플은 잘못 분류되기에 가중치 업데이트가 끝나지 않기 때문이죠.  \n",
    "\n",
    "이를 해결하기 위해 이번엔 선형 이진 분류에 조금 더 강력한 알고리즘인 로지스틱 회귀에 대해 분석하고 구현 해보겠습니다.  \n",
    "\n",
    "로지스틱 회귀는 회귀라는 이름을 가지고 있지만 사실상 분류 알고리즘에 가깝습니다.  \n",
    "\n",
    "로지스틱 회귀에도 선형회귀처럼 중요한 개념이 몇가지가 등장합니다.  \n",
    "그중 첫번째는 바로 오즈비(odd ratio) 인데요, 오즈는 특정 이벤트가 발생할 확률입니다.\n",
    "${ \\frac{P}{1-P}}$ 로 쓸 수 있고 P는 양성 샘플의 확률입니다. 예를들어 어떤 환자가 암에 걸려있을 확률 같은 것이죠.  \n",
    "이 오즈비 에다가 로그를 취해 로짓함수(logit function)를 정의할 수 있습니다.  \n",
    "${ logit(P) = log \\frac{P}{1-P}}$  \n",
    "여기서 log는 자연로그입니다. \n",
    "\n",
    "수식을 보면 알겠지만 위 함수는 0에서 1 사이의 값을 받아 실수범위를 출력하는데요  \n",
    "특성의 가중치의(weight) 합, 로그 오즈 사이의 선형 관계를 쓰면 위와 같습니다.\n",
    "$P(Y=1|X)=w0x0+w1x1+w2x2+...+wpxp = w^Tx $  \n",
    " 짜잔, 또다시 행렬이 나왔네요!  \n",
    "$P(Y=1|X)$ 는 특성 x가 주어졌을때 이 샘플이 1에 속할 확률을 뜻합니다.  \n",
    "저희가 해야하는건 어떤 샘플이 특정 클래스에 속할 확률을 예측하는 것이 목표이니 이걸 그대로 뒤집어 봅시다.\n",
    " \n",
    " ${\\phi}(z)= \\frac{1}{1+e^{-z}} $ 짜잔 로지스틱 시그모이드 함수가 완성 됐습니다.  \n",
    " 로지스틱 시그모이드 함수의 자세한 유도과정은 위키피디아에서 볼 수 있습니다.  \n",
    " 그럼 이제 시그모이드가 어떤 모양인지 그림을 그려봅시다.  "
   ]
  },
  {
   "cell_type": "code",
   "execution_count": 86,
   "metadata": {},
   "outputs": [
    {
     "data": {
      "image/png": "[encoded data removed]",
      "text/plain": [
       "<Figure size 432x288 with 1 Axes>"
      ]
     },
     "metadata": {
      "needs_background": "light"
     },
     "output_type": "display_data"
    }
   ],
   "source": [
    "import matplotlib.pyplot as plt\n",
    "import numpy as np\n",
    "\n",
    "\n",
    "def sigmoid(z):\n",
    "    return 1.0 / (1.0 + np.exp(-z))\n",
    "\n",
    "z = np.arange(-7, 7, 0.1)\n",
    "phi_z = sigmoid(z)\n",
    "\n",
    "plt.plot(z, phi_z)\n",
    "plt.axvline(0.0, color='k')\n",
    "plt.ylim(-0.1, 1.1)\n",
    "plt.xlabel('z')\n",
    "plt.ylabel('$\\phi (z)$')\n",
    "\n",
    "# y 축의 눈금과 격자선\n",
    "plt.yticks([0.0, 0.5, 1.0])\n",
    "ax = plt.gca()\n",
    "ax.yaxis.grid(True)\n",
    "\n",
    "plt.tight_layout()\n",
    "# plt.savefig('images/03_02.png', dpi=300)\n",
    "plt.show()"
   ]
  },
  {
   "cell_type": "code",
   "execution_count": 87,
   "metadata": {},
   "outputs": [
    {
     "data": {
      "text/html": [
       "<img src=\"https://git.io/Jtm22\" width=\"500\"/>"
      ],
      "text/plain": [
       "<IPython.core.display.Image object>"
      ]
     },
     "execution_count": 87,
     "metadata": {},
     "output_type": "execute_result"
    }
   ],
   "source": [
    "from IPython.display import Image\n",
    "Image(url='https://git.io/Jtm22', width=500) \n"
   ]
  },
  {
   "cell_type": "markdown",
   "metadata": {},
   "source": [
    "로지스틱 회귀도 선형함수와 같이 비용함수와 가중치 학습을 진행하는데요,   \n",
    "![title](https://raw.githubusercontent.com/satishgunjal/Images/master/Cost_Function_Formula.png) \n",
    "\n",
    "$h(x^{(i)})가 {\\phi}(z^{(i)})$ 가 됐을 뿐 근본적으로 같습니다."
   ]
  },
  {
   "cell_type": "code",
   "execution_count": 88,
   "metadata": {},
   "outputs": [],
   "source": [
    "import numpy as np\n",
    " \n",
    "class LogisticRegression:\n",
    "    def __init__(self,x,y):      \n",
    "        self.intercept = np.ones((x.shape[0], 1))  \n",
    "        self.x = np.concatenate((self.intercept, x), axis=1)\n",
    "        self.weight = np.zeros(self.x.shape[1])\n",
    "        self.y = y\n",
    "         \n",
    "    #Sigmoid method\n",
    "    def sigmoid(self, x, weight):\n",
    "        z = np.dot(x, weight)\n",
    "        return 1 / (1 + np.exp(-z))\n",
    "     \n",
    "    #method to calculate the Loss\n",
    "    def loss(self, h, y):\n",
    "        return (-y * np.log(h) - (1 - y) * np.log(1 - h)).mean()\n",
    "     \n",
    "    #Method for calculating the gradients\n",
    "    def gradient_descent(self, X, h, y):\n",
    "        return np.dot(X.T, (h - y)) / y.shape[0]\n",
    " \n",
    "     \n",
    "    def fit(self, lr , iterations):\n",
    "        for i in range(iterations):\n",
    "            sigma = self.sigmoid(self.x, self.weight)\n",
    "             \n",
    "            loss = self.loss(sigma,self.y)\n",
    " \n",
    "            dW = self.gradient_descent(self.x , sigma, self.y)\n",
    "             \n",
    "            #Updating the weights\n",
    "            self.weight -= lr * dW\n",
    " \n",
    "        return print('fitted successfully to data')\n",
    "     \n",
    "    #Method to predict the class label.\n",
    "    def predict(self, x_new , treshold):\n",
    "        x_new = np.concatenate((self.intercept, x_new), axis=1)\n",
    "        result = self.sigmoid(x_new, self.weight)\n",
    "        result = result >= treshold\n",
    "        y_pred = np.zeros(result.shape[0])\n",
    "        for i in range(len(y_pred)):\n",
    "            if result[i] == True: \n",
    "                y_pred[i] = 1\n",
    "            else:\n",
    "                continue\n",
    "                 \n",
    "        return y_pred"
   ]
  },
  {
   "cell_type": "markdown",
   "metadata": {},
   "source": [
    "선형 회귀에 대한 가설 함수는 다음과 같습니다.\n",
    "  h(x) = θ_0 + (θ_1*x_1)....(θ_n*x_n)\n",
    "이 함수를 Sigmoid 함수에 대한 입력으로 사용하여 이산 값을 얻을 것입니다.\n",
    "  z = θ_0 + (θ_1*x_1)....(θ_n*x_n)\n",
    "로지스틱 회귀에 대한 가설 함수는 다음과 같습니다.\n",
    "  h(x) = g(z) = g(θ_0 + (θ_1*x_1)....(θ_n*x_n))\n",
    "\n",
    "기본적으로 우리는 0에서 1까지의 이산 값을 얻기 위해 시그모이드 함수에 대한 입력으로 선 함수를 사용하고 있습니다. 시그모이드 함수 g(z)가 동작하는 방식은 입력이 0보다 크거나 같을 때 출력이 더 큽니다. 0.5 이상\n",
    "양수 입력은 양수 클래스를 생성하고 음수 입력은 음수 클래스를 생성하므로 입력의 가중치 합을 0으로 설정하여 두 클래스를 모두 분리할 수 있습니다.\n",
    "결정 경계는 긍정적인 클래스와 부정적인 클래스를 구분합니다.\n",
    "결정 경계는 y = 0인 영역과 y = 1인 영역을 구분하는 선입니다. 이것은 우리의 가설 함수에 의해 생성됩니다.\n",
    "앞에서 설명한 것처럼 입력의 가중치 합을 0으로 설정하여 결정 경계를 찾을 수 있습니다.\n",
    "두 기능(x 및 x1) 데이터 세트에 대한 결정 경계를 찾는 공식을 만들 수 있습니다.\n",
    "\n",
    "  h(x) = θ_0 + (θ_1*x_1) + (θ_2*x_2) = 0\n",
    "  x_2 = -(θ_0 + (θ_1*x_1)) / θ_2"
   ]
  },
  {
   "cell_type": "code",
   "execution_count": 89,
   "metadata": {},
   "outputs": [],
   "source": [
    "import pandas as pd\n",
    "import numpy as np\n",
    "import matplotlib.pyplot as plt\n",
    "import scipy.optimize as opt"
   ]
  },
  {
   "cell_type": "code",
   "execution_count": 90,
   "metadata": {},
   "outputs": [
    {
     "name": "stdout",
     "output_type": "stream",
     "text": [
      "Number of training examples m =  6497\n",
      "Number of features n =  12\n"
     ]
    },
    {
     "data": {
      "text/html": [
       "<div>\n",
       "<style scoped>\n",
       "    .dataframe tbody tr th:only-of-type {\n",
       "        vertical-align: middle;\n",
       "    }\n",
       "\n",
       "    .dataframe tbody tr th {\n",
       "        vertical-align: top;\n",
       "    }\n",
       "\n",
       "    .dataframe thead th {\n",
       "        text-align: right;\n",
       "    }\n",
       "</style>\n",
       "<table border=\"1\" class=\"dataframe\">\n",
       "  <thead>\n",
       "    <tr style=\"text-align: right;\">\n",
       "      <th></th>\n",
       "      <th>fixed acidity</th>\n",
       "      <th>volatile acidity</th>\n",
       "      <th>citric acid</th>\n",
       "      <th>residual sugar</th>\n",
       "      <th>chlorides</th>\n",
       "      <th>free sulfur dioxide</th>\n",
       "      <th>total sulfur dioxide</th>\n",
       "      <th>density</th>\n",
       "      <th>pH</th>\n",
       "      <th>sulphates</th>\n",
       "      <th>alcohol</th>\n",
       "      <th>quality</th>\n",
       "      <th>color</th>\n",
       "    </tr>\n",
       "  </thead>\n",
       "  <tbody>\n",
       "    <tr>\n",
       "      <th>1541</th>\n",
       "      <td>7.4</td>\n",
       "      <td>0.25</td>\n",
       "      <td>0.29</td>\n",
       "      <td>2.2</td>\n",
       "      <td>0.054</td>\n",
       "      <td>19.0</td>\n",
       "      <td>49.0</td>\n",
       "      <td>0.99666</td>\n",
       "      <td>3.40</td>\n",
       "      <td>0.76</td>\n",
       "      <td>10.9</td>\n",
       "      <td>7</td>\n",
       "      <td>1</td>\n",
       "    </tr>\n",
       "    <tr>\n",
       "      <th>1266</th>\n",
       "      <td>7.5</td>\n",
       "      <td>0.28</td>\n",
       "      <td>0.34</td>\n",
       "      <td>4.2</td>\n",
       "      <td>0.028</td>\n",
       "      <td>36.0</td>\n",
       "      <td>116.0</td>\n",
       "      <td>0.99100</td>\n",
       "      <td>2.99</td>\n",
       "      <td>0.41</td>\n",
       "      <td>12.3</td>\n",
       "      <td>8</td>\n",
       "      <td>0</td>\n",
       "    </tr>\n",
       "    <tr>\n",
       "      <th>4566</th>\n",
       "      <td>8.6</td>\n",
       "      <td>0.36</td>\n",
       "      <td>0.26</td>\n",
       "      <td>11.1</td>\n",
       "      <td>0.030</td>\n",
       "      <td>43.5</td>\n",
       "      <td>171.0</td>\n",
       "      <td>0.99480</td>\n",
       "      <td>3.03</td>\n",
       "      <td>0.49</td>\n",
       "      <td>12.0</td>\n",
       "      <td>5</td>\n",
       "      <td>0</td>\n",
       "    </tr>\n",
       "    <tr>\n",
       "      <th>1026</th>\n",
       "      <td>6.6</td>\n",
       "      <td>0.14</td>\n",
       "      <td>0.44</td>\n",
       "      <td>1.6</td>\n",
       "      <td>0.042</td>\n",
       "      <td>47.0</td>\n",
       "      <td>140.0</td>\n",
       "      <td>0.99300</td>\n",
       "      <td>3.32</td>\n",
       "      <td>0.51</td>\n",
       "      <td>10.2</td>\n",
       "      <td>6</td>\n",
       "      <td>0</td>\n",
       "    </tr>\n",
       "    <tr>\n",
       "      <th>2551</th>\n",
       "      <td>6.3</td>\n",
       "      <td>0.26</td>\n",
       "      <td>0.42</td>\n",
       "      <td>7.1</td>\n",
       "      <td>0.045</td>\n",
       "      <td>62.0</td>\n",
       "      <td>209.0</td>\n",
       "      <td>0.99544</td>\n",
       "      <td>3.20</td>\n",
       "      <td>0.53</td>\n",
       "      <td>9.5</td>\n",
       "      <td>6</td>\n",
       "      <td>0</td>\n",
       "    </tr>\n",
       "  </tbody>\n",
       "</table>\n",
       "</div>"
      ],
      "text/plain": [
       "      fixed acidity  volatile acidity  citric acid  residual sugar  chlorides  \\\n",
       "1541            7.4              0.25         0.29             2.2      0.054   \n",
       "1266            7.5              0.28         0.34             4.2      0.028   \n",
       "4566            8.6              0.36         0.26            11.1      0.030   \n",
       "1026            6.6              0.14         0.44             1.6      0.042   \n",
       "2551            6.3              0.26         0.42             7.1      0.045   \n",
       "\n",
       "      free sulfur dioxide  total sulfur dioxide  density    pH  sulphates  \\\n",
       "1541                 19.0                  49.0  0.99666  3.40       0.76   \n",
       "1266                 36.0                 116.0  0.99100  2.99       0.41   \n",
       "4566                 43.5                 171.0  0.99480  3.03       0.49   \n",
       "1026                 47.0                 140.0  0.99300  3.32       0.51   \n",
       "2551                 62.0                 209.0  0.99544  3.20       0.53   \n",
       "\n",
       "      alcohol  quality  color  \n",
       "1541     10.9        7      1  \n",
       "1266     12.3        8      0  \n",
       "4566     12.0        5      0  \n",
       "1026     10.2        6      0  \n",
       "2551      9.5        6      0  "
      ]
     },
     "execution_count": 90,
     "metadata": {},
     "output_type": "execute_result"
    }
   ],
   "source": [
    "red_wine = pd.read_csv('../winequality-red.csv', sep=';')\n",
    "white_wine = pd.read_csv('../winequality-white.csv',sep=';')\n",
    "#칼럼 추가\n",
    "red_wine['color'] = 1 #red\n",
    "white_wine['color'] = 0 #white\n",
    "\n",
    "df = pd.concat([red_wine, white_wine])\n",
    "m, n = df.shape\n",
    "print('Number of training examples m = ', m)\n",
    "print('Number of features n = ', n - 1) # Not counting the 'Label: Admission status'\n",
    "df.sample(5) # Show random 5 training examples"
   ]
  },
  {
   "cell_type": "code",
   "execution_count": 91,
   "metadata": {},
   "outputs": [
    {
     "name": "stdout",
     "output_type": "stream",
     "text": [
      "(6497, 13)\n",
      "Dimension of df_admitted=  (1599, 13)\n"
     ]
    },
    {
     "data": {
      "text/html": [
       "<div>\n",
       "<style scoped>\n",
       "    .dataframe tbody tr th:only-of-type {\n",
       "        vertical-align: middle;\n",
       "    }\n",
       "\n",
       "    .dataframe tbody tr th {\n",
       "        vertical-align: top;\n",
       "    }\n",
       "\n",
       "    .dataframe thead th {\n",
       "        text-align: right;\n",
       "    }\n",
       "</style>\n",
       "<table border=\"1\" class=\"dataframe\">\n",
       "  <thead>\n",
       "    <tr style=\"text-align: right;\">\n",
       "      <th></th>\n",
       "      <th>fixed acidity</th>\n",
       "      <th>volatile acidity</th>\n",
       "      <th>citric acid</th>\n",
       "      <th>residual sugar</th>\n",
       "      <th>chlorides</th>\n",
       "      <th>free sulfur dioxide</th>\n",
       "      <th>total sulfur dioxide</th>\n",
       "      <th>density</th>\n",
       "      <th>pH</th>\n",
       "      <th>sulphates</th>\n",
       "      <th>alcohol</th>\n",
       "      <th>quality</th>\n",
       "      <th>color</th>\n",
       "    </tr>\n",
       "  </thead>\n",
       "  <tbody>\n",
       "    <tr>\n",
       "      <th>1364</th>\n",
       "      <td>7.2</td>\n",
       "      <td>0.605</td>\n",
       "      <td>0.02</td>\n",
       "      <td>1.9</td>\n",
       "      <td>0.096</td>\n",
       "      <td>10.0</td>\n",
       "      <td>31.0</td>\n",
       "      <td>0.99500</td>\n",
       "      <td>3.46</td>\n",
       "      <td>0.53</td>\n",
       "      <td>11.8</td>\n",
       "      <td>6</td>\n",
       "      <td>1</td>\n",
       "    </tr>\n",
       "    <tr>\n",
       "      <th>1188</th>\n",
       "      <td>6.7</td>\n",
       "      <td>0.640</td>\n",
       "      <td>0.23</td>\n",
       "      <td>2.1</td>\n",
       "      <td>0.080</td>\n",
       "      <td>11.0</td>\n",
       "      <td>119.0</td>\n",
       "      <td>0.99538</td>\n",
       "      <td>3.36</td>\n",
       "      <td>0.70</td>\n",
       "      <td>10.9</td>\n",
       "      <td>5</td>\n",
       "      <td>1</td>\n",
       "    </tr>\n",
       "    <tr>\n",
       "      <th>745</th>\n",
       "      <td>7.3</td>\n",
       "      <td>0.510</td>\n",
       "      <td>0.18</td>\n",
       "      <td>2.1</td>\n",
       "      <td>0.070</td>\n",
       "      <td>12.0</td>\n",
       "      <td>28.0</td>\n",
       "      <td>0.99768</td>\n",
       "      <td>3.52</td>\n",
       "      <td>0.73</td>\n",
       "      <td>9.5</td>\n",
       "      <td>6</td>\n",
       "      <td>1</td>\n",
       "    </tr>\n",
       "    <tr>\n",
       "      <th>603</th>\n",
       "      <td>13.2</td>\n",
       "      <td>0.460</td>\n",
       "      <td>0.52</td>\n",
       "      <td>2.2</td>\n",
       "      <td>0.071</td>\n",
       "      <td>12.0</td>\n",
       "      <td>35.0</td>\n",
       "      <td>1.00060</td>\n",
       "      <td>3.10</td>\n",
       "      <td>0.56</td>\n",
       "      <td>9.0</td>\n",
       "      <td>6</td>\n",
       "      <td>1</td>\n",
       "    </tr>\n",
       "    <tr>\n",
       "      <th>222</th>\n",
       "      <td>6.8</td>\n",
       "      <td>0.610</td>\n",
       "      <td>0.04</td>\n",
       "      <td>1.5</td>\n",
       "      <td>0.057</td>\n",
       "      <td>5.0</td>\n",
       "      <td>10.0</td>\n",
       "      <td>0.99525</td>\n",
       "      <td>3.42</td>\n",
       "      <td>0.60</td>\n",
       "      <td>9.5</td>\n",
       "      <td>5</td>\n",
       "      <td>1</td>\n",
       "    </tr>\n",
       "  </tbody>\n",
       "</table>\n",
       "</div>"
      ],
      "text/plain": [
       "      fixed acidity  volatile acidity  citric acid  residual sugar  chlorides  \\\n",
       "1364            7.2             0.605         0.02             1.9      0.096   \n",
       "1188            6.7             0.640         0.23             2.1      0.080   \n",
       "745             7.3             0.510         0.18             2.1      0.070   \n",
       "603            13.2             0.460         0.52             2.2      0.071   \n",
       "222             6.8             0.610         0.04             1.5      0.057   \n",
       "\n",
       "      free sulfur dioxide  total sulfur dioxide  density    pH  sulphates  \\\n",
       "1364                 10.0                  31.0  0.99500  3.46       0.53   \n",
       "1188                 11.0                 119.0  0.99538  3.36       0.70   \n",
       "745                  12.0                  28.0  0.99768  3.52       0.73   \n",
       "603                  12.0                  35.0  1.00060  3.10       0.56   \n",
       "222                   5.0                  10.0  0.99525  3.42       0.60   \n",
       "\n",
       "      alcohol  quality  color  \n",
       "1364     11.8        6      1  \n",
       "1188     10.9        5      1  \n",
       "745       9.5        6      1  \n",
       "603       9.0        6      1  \n",
       "222       9.5        5      1  "
      ]
     },
     "execution_count": 91,
     "metadata": {},
     "output_type": "execute_result"
    }
   ],
   "source": [
    "df_red = df[df['color']==1]\n",
    "print(df.shape)\n",
    "print('Dimension of df_admitted= ', df_red.shape)\n",
    "df_red.sample(5)"
   ]
  },
  {
   "cell_type": "code",
   "execution_count": 92,
   "metadata": {},
   "outputs": [
    {
     "data": {
      "text/plain": [
       "Text(0.5, 1.0, 'Admitted Vs Not Admitted Applicants')"
      ]
     },
     "execution_count": 92,
     "metadata": {},
     "output_type": "execute_result"
    },
    {
     "data": {
      "image/png": "[encoded data removed]",
      "text/plain": [
       "<Figure size 720x432 with 1 Axes>"
      ]
     },
     "metadata": {
      "needs_background": "light"
     },
     "output_type": "display_data"
    }
   ],
   "source": [
    "plt.figure(figsize = (10,6))\n",
    "plt.scatter(df['color'], df['quality'], color='green', label='red wine')\n",
    "plt.scatter(df['color'], df['quality'], color='red', label='white')\n",
    "plt.xlabel('Exam 1 Marks')\n",
    "plt.ylabel('Exam 2 Marks')\n",
    "plt.legend()\n",
    "plt.title('Admitted Vs Not Admitted Applicants')"
   ]
  },
  {
   "cell_type": "code",
   "execution_count": 93,
   "metadata": {},
   "outputs": [
    {
     "name": "stdout",
     "output_type": "stream",
     "text": [
      "Dimension of df_notadmitted=  (4898, 13)\n"
     ]
    },
    {
     "data": {
      "text/html": [
       "<div>\n",
       "<style scoped>\n",
       "    .dataframe tbody tr th:only-of-type {\n",
       "        vertical-align: middle;\n",
       "    }\n",
       "\n",
       "    .dataframe tbody tr th {\n",
       "        vertical-align: top;\n",
       "    }\n",
       "\n",
       "    .dataframe thead th {\n",
       "        text-align: right;\n",
       "    }\n",
       "</style>\n",
       "<table border=\"1\" class=\"dataframe\">\n",
       "  <thead>\n",
       "    <tr style=\"text-align: right;\">\n",
       "      <th></th>\n",
       "      <th>fixed acidity</th>\n",
       "      <th>volatile acidity</th>\n",
       "      <th>citric acid</th>\n",
       "      <th>residual sugar</th>\n",
       "      <th>chlorides</th>\n",
       "      <th>free sulfur dioxide</th>\n",
       "      <th>total sulfur dioxide</th>\n",
       "      <th>density</th>\n",
       "      <th>pH</th>\n",
       "      <th>sulphates</th>\n",
       "      <th>alcohol</th>\n",
       "      <th>quality</th>\n",
       "      <th>color</th>\n",
       "    </tr>\n",
       "  </thead>\n",
       "  <tbody>\n",
       "    <tr>\n",
       "      <th>975</th>\n",
       "      <td>7.6</td>\n",
       "      <td>0.30</td>\n",
       "      <td>0.25</td>\n",
       "      <td>4.3</td>\n",
       "      <td>0.054</td>\n",
       "      <td>22.0</td>\n",
       "      <td>111.0</td>\n",
       "      <td>0.99560</td>\n",
       "      <td>3.12</td>\n",
       "      <td>0.49</td>\n",
       "      <td>9.2</td>\n",
       "      <td>5</td>\n",
       "      <td>0</td>\n",
       "    </tr>\n",
       "    <tr>\n",
       "      <th>15</th>\n",
       "      <td>6.6</td>\n",
       "      <td>0.17</td>\n",
       "      <td>0.38</td>\n",
       "      <td>1.5</td>\n",
       "      <td>0.032</td>\n",
       "      <td>28.0</td>\n",
       "      <td>112.0</td>\n",
       "      <td>0.99140</td>\n",
       "      <td>3.25</td>\n",
       "      <td>0.55</td>\n",
       "      <td>11.4</td>\n",
       "      <td>7</td>\n",
       "      <td>0</td>\n",
       "    </tr>\n",
       "    <tr>\n",
       "      <th>96</th>\n",
       "      <td>6.0</td>\n",
       "      <td>0.34</td>\n",
       "      <td>0.66</td>\n",
       "      <td>15.9</td>\n",
       "      <td>0.046</td>\n",
       "      <td>26.0</td>\n",
       "      <td>164.0</td>\n",
       "      <td>0.99790</td>\n",
       "      <td>3.14</td>\n",
       "      <td>0.50</td>\n",
       "      <td>8.8</td>\n",
       "      <td>6</td>\n",
       "      <td>0</td>\n",
       "    </tr>\n",
       "    <tr>\n",
       "      <th>1238</th>\n",
       "      <td>7.1</td>\n",
       "      <td>0.44</td>\n",
       "      <td>0.37</td>\n",
       "      <td>2.7</td>\n",
       "      <td>0.041</td>\n",
       "      <td>35.0</td>\n",
       "      <td>128.0</td>\n",
       "      <td>0.98960</td>\n",
       "      <td>3.07</td>\n",
       "      <td>0.43</td>\n",
       "      <td>13.5</td>\n",
       "      <td>7</td>\n",
       "      <td>0</td>\n",
       "    </tr>\n",
       "    <tr>\n",
       "      <th>4873</th>\n",
       "      <td>5.7</td>\n",
       "      <td>0.21</td>\n",
       "      <td>0.32</td>\n",
       "      <td>1.6</td>\n",
       "      <td>0.030</td>\n",
       "      <td>33.0</td>\n",
       "      <td>122.0</td>\n",
       "      <td>0.99044</td>\n",
       "      <td>3.33</td>\n",
       "      <td>0.52</td>\n",
       "      <td>11.9</td>\n",
       "      <td>6</td>\n",
       "      <td>0</td>\n",
       "    </tr>\n",
       "  </tbody>\n",
       "</table>\n",
       "</div>"
      ],
      "text/plain": [
       "      fixed acidity  volatile acidity  citric acid  residual sugar  chlorides  \\\n",
       "975             7.6              0.30         0.25             4.3      0.054   \n",
       "15              6.6              0.17         0.38             1.5      0.032   \n",
       "96              6.0              0.34         0.66            15.9      0.046   \n",
       "1238            7.1              0.44         0.37             2.7      0.041   \n",
       "4873            5.7              0.21         0.32             1.6      0.030   \n",
       "\n",
       "      free sulfur dioxide  total sulfur dioxide  density    pH  sulphates  \\\n",
       "975                  22.0                 111.0  0.99560  3.12       0.49   \n",
       "15                   28.0                 112.0  0.99140  3.25       0.55   \n",
       "96                   26.0                 164.0  0.99790  3.14       0.50   \n",
       "1238                 35.0                 128.0  0.98960  3.07       0.43   \n",
       "4873                 33.0                 122.0  0.99044  3.33       0.52   \n",
       "\n",
       "      alcohol  quality  color  \n",
       "975       9.2        5      0  \n",
       "15       11.4        7      0  \n",
       "96        8.8        6      0  \n",
       "1238     13.5        7      0  \n",
       "4873     11.9        6      0  "
      ]
     },
     "execution_count": 93,
     "metadata": {},
     "output_type": "execute_result"
    }
   ],
   "source": [
    "df_white = df[df['color'] == 0]\n",
    "print('Dimension of df_notadmitted= ', df_white.shape)\n",
    "df_white.sample(5)"
   ]
  },
  {
   "cell_type": "code",
   "execution_count": 94,
   "metadata": {},
   "outputs": [
    {
     "name": "stdout",
     "output_type": "stream",
     "text": [
      "Dimension of feature matric X =  (6497, 13) \n",
      "\n",
      "x = [ 1.      7.8     0.88    0.      2.6     0.098  25.     67.      0.9968\n",
      "  3.2     0.68    9.8     5.    ] , y = 1    1\n",
      "1    0\n",
      "Name: color, dtype: int64\n",
      "[[1.000e+00 7.400e+00 7.000e-01 0.000e+00 1.900e+00 7.600e-02 1.100e+01\n",
      "  3.400e+01 9.978e-01 3.510e+00 5.600e-01 9.400e+00 5.000e+00]\n",
      " [1.000e+00 7.800e+00 8.800e-01 0.000e+00 2.600e+00 9.800e-02 2.500e+01\n",
      "  6.700e+01 9.968e-01 3.200e+00 6.800e-01 9.800e+00 5.000e+00]\n",
      " [1.000e+00 7.800e+00 7.600e-01 4.000e-02 2.300e+00 9.200e-02 1.500e+01\n",
      "  5.400e+01 9.970e-01 3.260e+00 6.500e-01 9.800e+00 5.000e+00]\n",
      " [1.000e+00 1.120e+01 2.800e-01 5.600e-01 1.900e+00 7.500e-02 1.700e+01\n",
      "  6.000e+01 9.980e-01 3.160e+00 5.800e-01 9.800e+00 6.000e+00]\n",
      " [1.000e+00 7.400e+00 7.000e-01 0.000e+00 1.900e+00 7.600e-02 1.100e+01\n",
      "  3.400e+01 9.978e-01 3.510e+00 5.600e-01 9.400e+00 5.000e+00]]\n",
      "0    1\n",
      "1    1\n",
      "2    1\n",
      "3    1\n",
      "4    1\n",
      "Name: color, dtype: int64\n"
     ]
    },
    {
     "name": "stderr",
     "output_type": "stream",
     "text": [
      "C:\\Users\\joong\\AppData\\Local\\Temp/ipykernel_30232/2503200487.py:12: FutureWarning: The behavior of `series[i:j]` with an integer-dtype index is deprecated. In a future version, this will be treated as *label-based* indexing, consistent with e.g. `series[i]` lookups. To retain the old behavior, use `series.iloc[i:j]`. To get the future behavior, use `series.loc[i:j]`.\n",
      "  print(y[:5])\n"
     ]
    }
   ],
   "source": [
    "X = df.iloc[:, 0:12] \n",
    "#Add column of ones (intercept term)\n",
    "X = np.hstack((np.ones((m,1)),X))\n",
    "# Now X is numpy array of 2 dimension\n",
    "print(\"Dimension of feature matric X = \", X.shape, '\\n')\n",
    "\n",
    "y = df.iloc[:,-1]\n",
    "# First 5 records training examples with labels\n",
    "\n",
    "print('x =', X[1, ], ', y =', y[1])\n",
    "print(X[:5])\n",
    "print(y[:5])"
   ]
  },
  {
   "cell_type": "code",
   "execution_count": 95,
   "metadata": {},
   "outputs": [],
   "source": [
    "#시그모이드 함수 생성\n",
    "\n",
    "def sigmoid(z):\n",
    "    \"\"\"\n",
    "    To convert continuous value into a range of 0 to 1\n",
    "\n",
    "    I/P\n",
    "    ----------\n",
    "    z : Continuous value\n",
    "\n",
    "    O/P\n",
    "    -------\n",
    "    Value in range between 0 to 1.\n",
    "    \"\"\"\n",
    "    g = 1 / (1 + np.exp(-z))\n",
    "    return g"
   ]
  },
  {
   "cell_type": "code",
   "execution_count": 96,
   "metadata": {},
   "outputs": [
    {
     "data": {
      "text/plain": [
       "array([0., 0., 0., 0., 0., 0., 0., 0., 0., 0., 0., 0., 0.])"
      ]
     },
     "execution_count": 96,
     "metadata": {},
     "output_type": "execute_result"
    }
   ],
   "source": [
    "theta = np.zeros(n)\n",
    "theta"
   ]
  },
  {
   "cell_type": "code",
   "execution_count": 97,
   "metadata": {},
   "outputs": [],
   "source": [
    "#비용 및 기울기 함수 생성\n",
    "def cost_function(theta, X, y):\n",
    "    \"\"\"\n",
    "    Compute cost for logistic regression.\n",
    "\n",
    "    I/P\n",
    "    ----------\n",
    "    X : 2D array where each row represent the training example and each column represent the feature ndarray. Dimension(m x n)\n",
    "        m= number of training examples\n",
    "        n= number of features (including X_0 column of ones)\n",
    "    y : 1D array of labels/target value for each traing example. dimension(1 x m)\n",
    "\n",
    "    theta : 1D array of fitting parameters or weights. Dimension (1 x n)\n",
    "\n",
    "    O/P\n",
    "    -------\n",
    "    J : The cost of using theta as the parameter for linear regression to fit the data points in X and y.\n",
    "    \"\"\"\n",
    "    m, n = X.shape\n",
    "    x_dot_theta = X.dot(theta)\n",
    "\n",
    "    J = 1.0 / m * (-y.T.dot(np.log(sigmoid(x_dot_theta))) - (1 - y).T.dot(np.log(1 - sigmoid(x_dot_theta))))\n",
    "\n",
    "    return J"
   ]
  },
  {
   "cell_type": "code",
   "execution_count": 98,
   "metadata": {},
   "outputs": [],
   "source": [
    "def gradient(theta, X, y):\n",
    "    \"\"\"\n",
    "    Compute gradient for logistic regression.\n",
    "\n",
    "    I/P\n",
    "    ----------\n",
    "    X : 2D array where each row represent the training example and each column represent the feature ndarray. Dimension(m x n)\n",
    "        m= number of training examples\n",
    "        n= number of features (including X_0 column of ones)\n",
    "    y : 1D array of labels/target value for each traing example. dimension(1 x m)\n",
    "\n",
    "    theta : 1D array of fitting parameters or weights. Dimension (1 x n)\n",
    "\n",
    "    O/P\n",
    "    -------\n",
    "    grad: (numpy array)The gradient of the cost with respect to the parameters theta\n",
    "    \"\"\"\n",
    "    m, n = X.shape\n",
    "    x_dot_theta = X.dot(theta)\n",
    "\n",
    "    grad = 1.0 / m * (sigmoid(x_dot_theta) - y).T.dot(X)\n",
    "\n",
    "    return grad"
   ]
  },
  {
   "cell_type": "code",
   "execution_count": 99,
   "metadata": {},
   "outputs": [
    {
     "name": "stdout",
     "output_type": "stream",
     "text": [
      "Cost at initial theta (zeros): 0.6931471805599447\n",
      "Gradient at initial theta (zeros): [2.53886409e-01 1.56007773e+00 3.99291981e-02 9.26258273e-02\n",
      " 2.09678313e+00 6.49022626e-03 1.13556257e+01 4.64359320e+01\n",
      " 2.52035412e-01 7.94340465e-01 1.03654764e-01 2.68066261e+00\n",
      " 1.52208712e+00]\n"
     ]
    }
   ],
   "source": [
    "cost = cost_function(theta, X, y)\n",
    "print ('Cost at initial theta (zeros):', cost)\n",
    "\n",
    "grad = gradient(theta, X, y)\n",
    "print ('Gradient at initial theta (zeros):', grad)"
   ]
  },
  {
   "cell_type": "code",
   "execution_count": 100,
   "metadata": {},
   "outputs": [
    {
     "name": "stderr",
     "output_type": "stream",
     "text": [
      "C:\\Users\\joong\\AppData\\Local\\Temp/ipykernel_30232/4152066445.py:22: RuntimeWarning: divide by zero encountered in log\n",
      "  J = 1.0 / m * (-y.T.dot(np.log(sigmoid(x_dot_theta))) - (1 - y).T.dot(np.log(1 - sigmoid(x_dot_theta))))\n"
     ]
    },
    {
     "name": "stdout",
     "output_type": "stream",
     "text": [
      "Cost at theta found by fminunc: 0.0455037268182219\n",
      "theta: [-24.20856485   1.44191279  11.68906953  -0.99210292  -0.09007717\n",
      "  35.28398764   0.05019459  -0.06543437 -20.42893598   9.27894432\n",
      "   8.87247383  -0.40585181   0.09199207]\n"
     ]
    }
   ],
   "source": [
    "#고급 최적화 기술을 사용하여 세타 값 찾기\n",
    "\n",
    "theta, nfeval, rc = opt.fmin_tnc(func=cost_function, fprime= gradient, x0=theta, args=(X, y))\n",
    "\n",
    "cost = cost_function(theta, X, y)\n",
    "print ('Cost at theta found by fminunc:', cost)\n",
    "print ('theta:', theta)"
   ]
  },
  {
   "cell_type": "code",
   "execution_count": 101,
   "metadata": {},
   "outputs": [
    {
     "data": {
      "text/plain": [
       "Text(0.5, 1.0, 'Decision Boundary')"
      ]
     },
     "execution_count": 101,
     "metadata": {},
     "output_type": "execute_result"
    },
    {
     "data": {
      "image/png": "[encoded data removed]",
      "text/plain": [
       "<Figure size 720x432 with 1 Axes>"
      ]
     },
     "metadata": {
      "needs_background": "light"
     },
     "output_type": "display_data"
    }
   ],
   "source": [
    "# Lets calculate the X and Y values using Decision Boundary formula\n",
    "\n",
    "# For ploting a line we just need 2 points. Here I am taking 'min' and 'max' value as my two X points\n",
    "x_values = [min(X[:, 1]), np.max(X[:, 2])]\n",
    "y_values = - (theta[0] + np.dot(theta[1], x_values)) / theta[2]\n",
    "\n",
    "plt.figure(figsize = (10,6))\n",
    "plt.scatter(df_red['pH'], df_red['chlorides'], color='green', label='Admitted Applicants')\n",
    "plt.scatter(df_white['pH'], df_white['chlorides'], color='red', label='Not Admitted Applicants')\n",
    "plt.xlabel('Exam 1 Marks')\n",
    "plt.ylabel('Exam 2 Marks')\n",
    "\n",
    "plt.plot(x_values, y_values, color='blue', label='Decision Boundary')\n",
    "plt.legend()\n",
    "plt.title('Decision Boundary')"
   ]
  },
  {
   "cell_type": "code",
   "execution_count": 102,
   "metadata": {},
   "outputs": [
    {
     "name": "stdout",
     "output_type": "stream",
     "text": [
      "Admission probability for applicant with scores 45 in Exam 1 and 85 in Exam 2 is = [1. 1. 1. 1. 1. 1. 1. 1. 1. 1. 1. 1.]\n"
     ]
    }
   ],
   "source": [
    "#input_data = np.array([1, 45, 85]) # Note the intercept term '1' in array\n",
    "input_data = red_wine.iloc[:12,]\n",
    "prob = sigmoid(np.dot(input_data, theta))\n",
    "print ('Admission probability for applicant with scores 45 in Exam 1 and 85 in Exam 2 is =', prob)"
   ]
  },
  {
   "cell_type": "markdown",
   "metadata": {},
   "source": [
    "로지스틱 모델에 대한 예측을 위한 함수를 만들어 보겠습니다. 이 함수는 0과 1 사이의 확률을 예측하는 대신 0.5의 임계값을 사용하여 이산 값을 예측합니다. 확률 >= 0.5일 때 1 그렇지 않으면 0"
   ]
  },
  {
   "cell_type": "code",
   "execution_count": 103,
   "metadata": {},
   "outputs": [],
   "source": [
    "def predict(theta, X):\n",
    "    \"\"\"\n",
    "    Predict the class between 0 and 1 using learned logistic regression parameters theta.\n",
    "    Using threshold value 0.5 to convert probability value to class value \n",
    "\n",
    "    I/P\n",
    "    ----------\n",
    "    X : 2D array where each row represent the training example and each column represent the feature ndarray. Dimension(m x n)\n",
    "        m= number of training examples\n",
    "        n= number of features (including X_0 column of ones)\n",
    "\n",
    "    theta : 1D array of fitting parameters or weights. Dimension (1 x n)\n",
    "\n",
    "    O/P\n",
    "    -------\n",
    "    Class type based on threshold\n",
    "    \"\"\"\n",
    "    p = sigmoid(X.dot(theta)) >= 0.5\n",
    "    return p.astype(int)"
   ]
  },
  {
   "cell_type": "code",
   "execution_count": 104,
   "metadata": {},
   "outputs": [
    {
     "data": {
      "text/html": [
       "<div>\n",
       "<style scoped>\n",
       "    .dataframe tbody tr th:only-of-type {\n",
       "        vertical-align: middle;\n",
       "    }\n",
       "\n",
       "    .dataframe tbody tr th {\n",
       "        vertical-align: top;\n",
       "    }\n",
       "\n",
       "    .dataframe thead th {\n",
       "        text-align: right;\n",
       "    }\n",
       "</style>\n",
       "<table border=\"1\" class=\"dataframe\">\n",
       "  <thead>\n",
       "    <tr style=\"text-align: right;\">\n",
       "      <th></th>\n",
       "      <th>0</th>\n",
       "      <th>1</th>\n",
       "      <th>2</th>\n",
       "      <th>3</th>\n",
       "      <th>4</th>\n",
       "      <th>5</th>\n",
       "      <th>6</th>\n",
       "      <th>7</th>\n",
       "      <th>8</th>\n",
       "      <th>9</th>\n",
       "      <th>...</th>\n",
       "      <th>6487</th>\n",
       "      <th>6488</th>\n",
       "      <th>6489</th>\n",
       "      <th>6490</th>\n",
       "      <th>6491</th>\n",
       "      <th>6492</th>\n",
       "      <th>6493</th>\n",
       "      <th>6494</th>\n",
       "      <th>6495</th>\n",
       "      <th>6496</th>\n",
       "    </tr>\n",
       "  </thead>\n",
       "  <tbody>\n",
       "    <tr>\n",
       "      <th>Admission status</th>\n",
       "      <td>NaN</td>\n",
       "      <td>NaN</td>\n",
       "      <td>NaN</td>\n",
       "      <td>NaN</td>\n",
       "      <td>NaN</td>\n",
       "      <td>NaN</td>\n",
       "      <td>NaN</td>\n",
       "      <td>NaN</td>\n",
       "      <td>NaN</td>\n",
       "      <td>NaN</td>\n",
       "      <td>...</td>\n",
       "      <td>NaN</td>\n",
       "      <td>NaN</td>\n",
       "      <td>NaN</td>\n",
       "      <td>NaN</td>\n",
       "      <td>NaN</td>\n",
       "      <td>NaN</td>\n",
       "      <td>NaN</td>\n",
       "      <td>NaN</td>\n",
       "      <td>NaN</td>\n",
       "      <td>NaN</td>\n",
       "    </tr>\n",
       "    <tr>\n",
       "      <th>Predicted Admission status</th>\n",
       "      <td>1</td>\n",
       "      <td>1</td>\n",
       "      <td>1</td>\n",
       "      <td>1</td>\n",
       "      <td>1</td>\n",
       "      <td>1</td>\n",
       "      <td>1</td>\n",
       "      <td>1</td>\n",
       "      <td>1</td>\n",
       "      <td>1</td>\n",
       "      <td>...</td>\n",
       "      <td>0</td>\n",
       "      <td>0</td>\n",
       "      <td>0</td>\n",
       "      <td>0</td>\n",
       "      <td>0</td>\n",
       "      <td>0</td>\n",
       "      <td>0</td>\n",
       "      <td>0</td>\n",
       "      <td>0</td>\n",
       "      <td>0</td>\n",
       "    </tr>\n",
       "  </tbody>\n",
       "</table>\n",
       "<p>2 rows × 6497 columns</p>\n",
       "</div>"
      ],
      "text/plain": [
       "                           0    1    2    3    4    5    6    7    8    9     \\\n",
       "Admission status            NaN  NaN  NaN  NaN  NaN  NaN  NaN  NaN  NaN  NaN   \n",
       "Predicted Admission status    1    1    1    1    1    1    1    1    1    1   \n",
       "\n",
       "                            ... 6487 6488 6489 6490 6491 6492 6493 6494 6495  \\\n",
       "Admission status            ...  NaN  NaN  NaN  NaN  NaN  NaN  NaN  NaN  NaN   \n",
       "Predicted Admission status  ...    0    0    0    0    0    0    0    0    0   \n",
       "\n",
       "                           6496  \n",
       "Admission status            NaN  \n",
       "Predicted Admission status    0  \n",
       "\n",
       "[2 rows x 6497 columns]"
      ]
     },
     "execution_count": 104,
     "metadata": {},
     "output_type": "execute_result"
    }
   ],
   "source": [
    "#모델의 정확도\n",
    "predictedValue = pd.DataFrame(predict(theta, X), columns=['Predicted Admission status']) # Create new dataframe of column'Predicted Price'\n",
    "actualAdmissionStatus = pd.DataFrame(y, columns=['Admission status'])\n",
    "df_actual_vs_predicted = pd.concat([actualAdmissionStatus,predictedValue],axis =1)\n",
    "df_actual_vs_predicted.T"
   ]
  },
  {
   "cell_type": "code",
   "execution_count": 105,
   "metadata": {},
   "outputs": [
    {
     "name": "stdout",
     "output_type": "stream",
     "text": [
      "Accuracy: 98.87640449438202\n"
     ]
    }
   ],
   "source": [
    "p = predict(theta, X)\n",
    "print ('Accuracy:', np.mean(p == y) * 100 )"
   ]
  }
 ],
 "metadata": {
  "kernelspec": {
   "display_name": "Python 3.9.7 ('tf')",
   "language": "python",
   "name": "python3"
  },
  "language_info": {
   "codemirror_mode": {
    "name": "ipython",
    "version": 3
   },
   "file_extension": ".py",
   "mimetype": "text/x-python",
   "name": "python",
   "nbconvert_exporter": "python",
   "pygments_lexer": "ipython3",
   "version": "3.9.7"
  },
  "orig_nbformat": 4,
  "vscode": {
   "interpreter": {
    "hash": "d8440f78dcf415eeb64b643f5b42a3ec36a79c8336066ce42279dfe195c697cc"
   }
  }
 },
 "nbformat": 4,
 "nbformat_minor": 2
}
